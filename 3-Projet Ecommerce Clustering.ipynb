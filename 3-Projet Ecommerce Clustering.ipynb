{
 "cells": [
  {
   "cell_type": "code",
   "execution_count": 2,
   "metadata": {},
   "outputs": [],
   "source": [
    "import pandas as pd\n",
    "import numpy as np\n",
    "import matplotlib.pyplot as plt\n",
    "import seaborn as sns\n",
    "from sklearn.decomposition import PCA\n",
    "from sklearn.preprocessing import StandardScaler\n",
    "from sklearn.cluster import AgglomerativeClustering\n",
    "from sklearn.cluster import KMeans\n",
    "from scipy.spatial.distance import cdist"
   ]
  },
  {
   "cell_type": "markdown",
   "metadata": {},
   "source": [
    "* Import du fichier des événements, jeu de données comportementales - REMPLACER PAR BON CHEMIN"
   ]
  },
  {
   "cell_type": "code",
   "execution_count": 3,
   "metadata": {},
   "outputs": [
    {
     "data": {
      "text/html": [
       "<div>\n",
       "<style scoped>\n",
       "    .dataframe tbody tr th:only-of-type {\n",
       "        vertical-align: middle;\n",
       "    }\n",
       "\n",
       "    .dataframe tbody tr th {\n",
       "        vertical-align: top;\n",
       "    }\n",
       "\n",
       "    .dataframe thead th {\n",
       "        text-align: right;\n",
       "    }\n",
       "</style>\n",
       "<table border=\"1\" class=\"dataframe\">\n",
       "  <thead>\n",
       "    <tr style=\"text-align: right;\">\n",
       "      <th></th>\n",
       "      <th>timestamp</th>\n",
       "      <th>visitorid</th>\n",
       "      <th>event</th>\n",
       "      <th>itemid</th>\n",
       "      <th>transactionid</th>\n",
       "    </tr>\n",
       "  </thead>\n",
       "  <tbody>\n",
       "    <tr>\n",
       "      <th>0</th>\n",
       "      <td>1433221332117</td>\n",
       "      <td>257597</td>\n",
       "      <td>view</td>\n",
       "      <td>355908</td>\n",
       "      <td>NaN</td>\n",
       "    </tr>\n",
       "    <tr>\n",
       "      <th>1</th>\n",
       "      <td>1433224214164</td>\n",
       "      <td>992329</td>\n",
       "      <td>view</td>\n",
       "      <td>248676</td>\n",
       "      <td>NaN</td>\n",
       "    </tr>\n",
       "    <tr>\n",
       "      <th>2</th>\n",
       "      <td>1433221999827</td>\n",
       "      <td>111016</td>\n",
       "      <td>view</td>\n",
       "      <td>318965</td>\n",
       "      <td>NaN</td>\n",
       "    </tr>\n",
       "    <tr>\n",
       "      <th>3</th>\n",
       "      <td>1433221955914</td>\n",
       "      <td>483717</td>\n",
       "      <td>view</td>\n",
       "      <td>253185</td>\n",
       "      <td>NaN</td>\n",
       "    </tr>\n",
       "    <tr>\n",
       "      <th>4</th>\n",
       "      <td>1433221337106</td>\n",
       "      <td>951259</td>\n",
       "      <td>view</td>\n",
       "      <td>367447</td>\n",
       "      <td>NaN</td>\n",
       "    </tr>\n",
       "  </tbody>\n",
       "</table>\n",
       "</div>"
      ],
      "text/plain": [
       "       timestamp  visitorid event  itemid  transactionid\n",
       "0  1433221332117     257597  view  355908            NaN\n",
       "1  1433224214164     992329  view  248676            NaN\n",
       "2  1433221999827     111016  view  318965            NaN\n",
       "3  1433221955914     483717  view  253185            NaN\n",
       "4  1433221337106     951259  view  367447            NaN"
      ]
     },
     "execution_count": 3,
     "metadata": {},
     "output_type": "execute_result"
    }
   ],
   "source": [
    "df_events = pd.read_csv(\"/Volumes/HD 2/DataScientest/PROJET/Jeu de données/donnees_brutes/events.csv\")\n",
    "df_events.head()"
   ]
  },
  {
   "cell_type": "markdown",
   "metadata": {},
   "source": [
    "* df_events est le dataframe qui va le plus nous intéresser pour des calculs d'événements\n",
    "* Conversion du timestamp en dates réelles dans df_events (changement de l'unix en date et creation d'une colonne jour de la semaine (les heures n'avaient pas de sens donc décalage de 5h pour match le -5 UTC americain)\n",
    "* On remet les jours de la semaine dans l'ordre et on sépare les valeurs de la colonne event en 3 colonnes"
   ]
  },
  {
   "cell_type": "code",
   "execution_count": 4,
   "metadata": {},
   "outputs": [
    {
     "data": {
      "text/html": [
       "<div>\n",
       "<style scoped>\n",
       "    .dataframe tbody tr th:only-of-type {\n",
       "        vertical-align: middle;\n",
       "    }\n",
       "\n",
       "    .dataframe tbody tr th {\n",
       "        vertical-align: top;\n",
       "    }\n",
       "\n",
       "    .dataframe thead th {\n",
       "        text-align: right;\n",
       "    }\n",
       "</style>\n",
       "<table border=\"1\" class=\"dataframe\">\n",
       "  <thead>\n",
       "    <tr style=\"text-align: right;\">\n",
       "      <th></th>\n",
       "      <th>timestamp</th>\n",
       "      <th>visitorid</th>\n",
       "      <th>event</th>\n",
       "      <th>itemid</th>\n",
       "      <th>transactionid</th>\n",
       "      <th>day_of_week</th>\n",
       "      <th>events_addtocart</th>\n",
       "      <th>events_transaction</th>\n",
       "      <th>events_view</th>\n",
       "    </tr>\n",
       "  </thead>\n",
       "  <tbody>\n",
       "    <tr>\n",
       "      <th>0</th>\n",
       "      <td>2015-06-02 00:02:12.117</td>\n",
       "      <td>257597</td>\n",
       "      <td>view</td>\n",
       "      <td>355908</td>\n",
       "      <td>NaN</td>\n",
       "      <td>Tuesday</td>\n",
       "      <td>0</td>\n",
       "      <td>0</td>\n",
       "      <td>1</td>\n",
       "    </tr>\n",
       "    <tr>\n",
       "      <th>1</th>\n",
       "      <td>2015-06-02 00:50:14.164</td>\n",
       "      <td>992329</td>\n",
       "      <td>view</td>\n",
       "      <td>248676</td>\n",
       "      <td>NaN</td>\n",
       "      <td>Tuesday</td>\n",
       "      <td>0</td>\n",
       "      <td>0</td>\n",
       "      <td>1</td>\n",
       "    </tr>\n",
       "    <tr>\n",
       "      <th>2</th>\n",
       "      <td>2015-06-02 00:13:19.827</td>\n",
       "      <td>111016</td>\n",
       "      <td>view</td>\n",
       "      <td>318965</td>\n",
       "      <td>NaN</td>\n",
       "      <td>Tuesday</td>\n",
       "      <td>0</td>\n",
       "      <td>0</td>\n",
       "      <td>1</td>\n",
       "    </tr>\n",
       "    <tr>\n",
       "      <th>3</th>\n",
       "      <td>2015-06-02 00:12:35.914</td>\n",
       "      <td>483717</td>\n",
       "      <td>view</td>\n",
       "      <td>253185</td>\n",
       "      <td>NaN</td>\n",
       "      <td>Tuesday</td>\n",
       "      <td>0</td>\n",
       "      <td>0</td>\n",
       "      <td>1</td>\n",
       "    </tr>\n",
       "    <tr>\n",
       "      <th>4</th>\n",
       "      <td>2015-06-02 00:02:17.106</td>\n",
       "      <td>951259</td>\n",
       "      <td>view</td>\n",
       "      <td>367447</td>\n",
       "      <td>NaN</td>\n",
       "      <td>Tuesday</td>\n",
       "      <td>0</td>\n",
       "      <td>0</td>\n",
       "      <td>1</td>\n",
       "    </tr>\n",
       "  </tbody>\n",
       "</table>\n",
       "</div>"
      ],
      "text/plain": [
       "                timestamp  visitorid event  itemid  transactionid day_of_week  \\\n",
       "0 2015-06-02 00:02:12.117     257597  view  355908            NaN     Tuesday   \n",
       "1 2015-06-02 00:50:14.164     992329  view  248676            NaN     Tuesday   \n",
       "2 2015-06-02 00:13:19.827     111016  view  318965            NaN     Tuesday   \n",
       "3 2015-06-02 00:12:35.914     483717  view  253185            NaN     Tuesday   \n",
       "4 2015-06-02 00:02:17.106     951259  view  367447            NaN     Tuesday   \n",
       "\n",
       "   events_addtocart  events_transaction  events_view  \n",
       "0                 0                   0            1  \n",
       "1                 0                   0            1  \n",
       "2                 0                   0            1  \n",
       "3                 0                   0            1  \n",
       "4                 0                   0            1  "
      ]
     },
     "execution_count": 4,
     "metadata": {},
     "output_type": "execute_result"
    }
   ],
   "source": [
    "import datetime\n",
    "import calendar\n",
    "\n",
    "df_events['timestamp'] = pd.to_datetime(df_events['timestamp'], unit= \"ms\",) - datetime.timedelta(hours=5)\n",
    "df_events['day_of_week'] = df_events.timestamp.dt.day_name()\n",
    "\n",
    "cats = ['Monday', 'Tuesday', 'Wednesday', 'Thursday', 'Friday', 'Saturday', 'Sunday']\n",
    "df_events['day_of_week'] = pd.Categorical(df_events['day_of_week'], categories=cats, ordered=True)\n",
    "\n",
    "df_events = df_events.join(pd.get_dummies(df_events.event, prefix = \"events\"))\n",
    "\n",
    "df_events.head()"
   ]
  },
  {
   "cell_type": "markdown",
   "metadata": {},
   "source": [
    "* On créer un nouveau dataframe qui regroupe les actions réalisées par chaque visiteur :"
   ]
  },
  {
   "cell_type": "code",
   "execution_count": 5,
   "metadata": {},
   "outputs": [
    {
     "data": {
      "text/html": [
       "<div>\n",
       "<style scoped>\n",
       "    .dataframe tbody tr th:only-of-type {\n",
       "        vertical-align: middle;\n",
       "    }\n",
       "\n",
       "    .dataframe tbody tr th {\n",
       "        vertical-align: top;\n",
       "    }\n",
       "\n",
       "    .dataframe thead th {\n",
       "        text-align: right;\n",
       "    }\n",
       "</style>\n",
       "<table border=\"1\" class=\"dataframe\">\n",
       "  <thead>\n",
       "    <tr style=\"text-align: right;\">\n",
       "      <th></th>\n",
       "      <th>visitorid</th>\n",
       "      <th>Nombre de vues</th>\n",
       "      <th>Nombre d'ajout au panier</th>\n",
       "      <th>Nombre de transactions</th>\n",
       "    </tr>\n",
       "  </thead>\n",
       "  <tbody>\n",
       "    <tr>\n",
       "      <th>0</th>\n",
       "      <td>1150086</td>\n",
       "      <td>6479.0</td>\n",
       "      <td>719.0</td>\n",
       "      <td>559.0</td>\n",
       "    </tr>\n",
       "    <tr>\n",
       "      <th>1</th>\n",
       "      <td>530559</td>\n",
       "      <td>3623.0</td>\n",
       "      <td>419.0</td>\n",
       "      <td>286.0</td>\n",
       "    </tr>\n",
       "    <tr>\n",
       "      <th>2</th>\n",
       "      <td>895999</td>\n",
       "      <td>2368.0</td>\n",
       "      <td>56.0</td>\n",
       "      <td>50.0</td>\n",
       "    </tr>\n",
       "    <tr>\n",
       "      <th>3</th>\n",
       "      <td>152963</td>\n",
       "      <td>2304.0</td>\n",
       "      <td>371.0</td>\n",
       "      <td>349.0</td>\n",
       "    </tr>\n",
       "    <tr>\n",
       "      <th>4</th>\n",
       "      <td>163561</td>\n",
       "      <td>2194.0</td>\n",
       "      <td>124.0</td>\n",
       "      <td>92.0</td>\n",
       "    </tr>\n",
       "  </tbody>\n",
       "</table>\n",
       "</div>"
      ],
      "text/plain": [
       "   visitorid  Nombre de vues  Nombre d'ajout au panier  Nombre de transactions\n",
       "0    1150086          6479.0                     719.0                   559.0\n",
       "1     530559          3623.0                     419.0                   286.0\n",
       "2     895999          2368.0                      56.0                    50.0\n",
       "3     152963          2304.0                     371.0                   349.0\n",
       "4     163561          2194.0                     124.0                    92.0"
      ]
     },
     "execution_count": 5,
     "metadata": {},
     "output_type": "execute_result"
    }
   ],
   "source": [
    "df_id = df_events[df_events['events_view'] == 1]\n",
    "df_id = df_id['visitorid'].value_counts()\n",
    "df_id = df_id.to_frame()\n",
    "df_id.columns = ['Nombre de vues']\n",
    "df_id = df_id.rename_axis('visitorid').reset_index() \n",
    "\n",
    "cart = df_events[df_events['events_addtocart'] == 1]\n",
    "cart = cart['visitorid'].value_counts()\n",
    "cart = cart.to_frame()\n",
    "cart.columns = ['Nombre d\\'ajout au panier']\n",
    "cart = cart.rename_axis('visitorid').reset_index() \n",
    "df_id = df_id.merge(right = cart, on = 'visitorid', how = 'outer' )\n",
    "\n",
    "transac = df_events[df_events['events_transaction'] == 1]\n",
    "transac = transac['visitorid'].value_counts()\n",
    "transac = transac.to_frame()\n",
    "transac.columns = ['Nombre de transactions']\n",
    "transac = transac.rename_axis('visitorid').reset_index()\n",
    "df_id = df_id.merge(right = transac, on = 'visitorid', how = 'outer' )\n",
    "df_id.head()"
   ]
  },
  {
   "cell_type": "markdown",
   "metadata": {},
   "source": [
    "* Enfin on place les utilisateurs en index et on remplace les valeurs manquante par 0."
   ]
  },
  {
   "cell_type": "code",
   "execution_count": 6,
   "metadata": {},
   "outputs": [],
   "source": [
    "df_id = df_id.set_index('visitorid')\n",
    "df_id = df_id.fillna(0)"
   ]
  },
  {
   "cell_type": "markdown",
   "metadata": {},
   "source": [
    "* Essai de clustering hiérarchique :"
   ]
  },
  {
   "cell_type": "code",
   "execution_count": 7,
   "metadata": {},
   "outputs": [],
   "source": [
    "#ls_features = list(df_id.keys())\n",
    "\n",
    "# Initialisation du classificateur CAH pour 4 clusters\n",
    "#cluster = AgglomerativeClustering(n_clusters = 4)\n",
    "\n",
    "# Apprentissage des données \n",
    "#cluster.fit(df_id[ls_features])\n",
    "\n",
    "# Calcul des labels du data set\n",
    "#labels = cluster.labels_"
   ]
  },
  {
   "cell_type": "code",
   "execution_count": 8,
   "metadata": {},
   "outputs": [],
   "source": [
    "#Vis\n",
    "#plt.scatter(x = labels, y = df_id.index)"
   ]
  },
  {
   "cell_type": "markdown",
   "metadata": {},
   "source": [
    "_Le clustering hiérarchique n'est pas adapté a ce type de données. La base de donnée est trop grande et le kernel n'arrive pas a s'éxécuter._"
   ]
  },
  {
   "cell_type": "markdown",
   "metadata": {},
   "source": [
    "* Clustering avec K means où on cherche à visualiser les données"
   ]
  },
  {
   "cell_type": "code",
   "execution_count": 9,
   "metadata": {},
   "outputs": [
    {
     "data": {
      "image/png": "[encoded data removed]",
      "text/plain": [
       "<Figure size 432x288 with 1 Axes>"
      ]
     },
     "metadata": {
      "needs_background": "light"
     },
     "output_type": "display_data"
    }
   ],
   "source": [
    "plt.scatter(df_id['Nombre de vues'],df_id['Nombre de transactions'])\n",
    "plt.xlabel('Nombre de vues')\n",
    "plt.ylabel('Nombre de transactions')\n",
    "plt.title('Visualisation des utilisateurs', bbox={'facecolor':'0.8', 'pad':5})\n",
    "plt.show()"
   ]
  },
  {
   "cell_type": "markdown",
   "metadata": {},
   "source": [
    "_On observe que la majorité des utilisateurs ont consulté et acheté des produits de manière raisonable, cependant certains d'entre eux ont réalisé plus d'une centaine d'achats en 4 mois et ont consulté le site de manière trop fréquente pour un utilisateur lambda._\n",
    "\n",
    "* L'objectif du clustering va être de repérer ces utilisateurs anormaux avec un diagramme en boîte (boxplot) de tous les variables explicatives"
   ]
  },
  {
   "cell_type": "code",
   "execution_count": 10,
   "metadata": {},
   "outputs": [
    {
     "data": {
      "image/png": "[encoded data removed]",
      "text/plain": [
       "<Figure size 432x288 with 1 Axes>"
      ]
     },
     "metadata": {
      "needs_background": "light"
     },
     "output_type": "display_data"
    }
   ],
   "source": [
    "liste = [df_id[\"Nombre de vues\"],df_id[\"Nombre d'ajout au panier\"], df_id[\"Nombre de transactions\"] ]\n",
    "plt.figure()\n",
    "plt.title('Diagramme en boîte des actions des utilisateurs', bbox={'facecolor':'0.8', 'pad':5})\n",
    "plt.boxplot(liste, labels = ['Vues', 'Ajout au panier', \"Transactions\"])\n",
    "plt.show()"
   ]
  },
  {
   "cell_type": "markdown",
   "metadata": {},
   "source": [
    "_On observe égalememt sur ce diagramme en boîte des utilisateurs ayant des statistiques de visualisation ou d'achat qui sortent de l'ordinaire._"
   ]
  },
  {
   "cell_type": "markdown",
   "metadata": {},
   "source": [
    "* On réalise la méthode du coude afin de déterminer le juste nombre de clusters nécessaire :"
   ]
  },
  {
   "cell_type": "code",
   "execution_count": 11,
   "metadata": {},
   "outputs": [],
   "source": [
    "# Liste des nombres de clusters\n",
    "range_n_clusters = [2, 3, 4, 5, 6]  \n",
    "\n",
    "# Initialisation de la liste de distorsions\n",
    "distorsions = []\n",
    "\n",
    "# Calcul des distorsions pour les différents modèles\n",
    "for n_clusters in range_n_clusters:\n",
    "    \n",
    "    # Initialisation d'un cluster ayant un pour nombre de clusters n_clusters\n",
    "    cluster = KMeans(n_clusters = n_clusters)\n",
    "    \n",
    "    # Apprentissage des données suivant le cluster construit ci-dessus\n",
    "    cluster.fit(df_id)\n",
    "    \n",
    "    # Ajout de la nouvelle distorsion à la liste des données\n",
    "    distorsions.append(sum(np.min(cdist(df_id, cluster.cluster_centers_, 'euclidean'), axis=1)) / np.size(df_id, axis = 0))"
   ]
  },
  {
   "cell_type": "markdown",
   "metadata": {},
   "source": [
    "* Puis on visualise les distorsions en fonction du nombre de clusters"
   ]
  },
  {
   "cell_type": "code",
   "execution_count": 12,
   "metadata": {},
   "outputs": [
    {
     "data": {
      "image/png": "[encoded data removed]",
      "text/plain": [
       "<Figure size 432x288 with 1 Axes>"
      ]
     },
     "metadata": {
      "needs_background": "light"
     },
     "output_type": "display_data"
    }
   ],
   "source": [
    "plt.plot(range_n_clusters, distorsions, 'gx-')\n",
    "plt.xlabel('Nombre de Clusters K')\n",
    "plt.ylabel('Distorsion (WSS/TSS)')\n",
    "plt.title('Méthode du coude affichant le nombre de clusters optimal', bbox={'facecolor':'0.8', 'pad':5})\n",
    "plt.show()"
   ]
  },
  {
   "cell_type": "markdown",
   "metadata": {},
   "source": [
    "* Mise en place de l'algorithme des K-means avec 4 clusters (choisis grâce a la méthode du coude vue précédemment)"
   ]
  },
  {
   "cell_type": "code",
   "execution_count": 13,
   "metadata": {},
   "outputs": [],
   "source": [
    "# k-means\n",
    "kmeans = KMeans(n_clusters=4, random_state=0)\n",
    "df_id[\"cluster\"] = kmeans.fit_predict(df_id[['Nombre de vues', 'Nombre de transactions']])\n",
    "\n",
    "# get centroids\n",
    "centroids = kmeans.cluster_centers_\n",
    "cen_x = [i[0] for i in centroids] \n",
    "cen_y = [i[1] for i in centroids]\n",
    "\n",
    "## add to df\n",
    "df_id['cen_x'] = df_id.cluster.map({0:cen_x[0], 1:cen_x[1], 2:cen_x[2],3:cen_x[3]})\n",
    "df_id['cen_y'] = df_id.cluster.map({0:cen_y[0], 1:cen_y[1], 2:cen_y[2],3:cen_y[3]})\n",
    "\n",
    "# define and map colors\n",
    "colors = ['#bf20df', '#2095DF',\"#AE6042\", '#DF2020']\n",
    "df_id['c'] = df_id.cluster.map({0:colors[0], 1:colors[1], 2:colors[2],3:colors[3]})"
   ]
  },
  {
   "cell_type": "markdown",
   "metadata": {},
   "source": [
    "* Visualisation du k-mean"
   ]
  },
  {
   "cell_type": "code",
   "execution_count": 14,
   "metadata": {},
   "outputs": [
    {
     "data": {
      "text/plain": [
       "Text(0, 0.5, 'Nombre de transactions')"
      ]
     },
     "execution_count": 14,
     "metadata": {},
     "output_type": "execute_result"
    },
    {
     "data": {
      "image/png": "[encoded data removed]",
      "text/plain": [
       "<Figure size 720x720 with 1 Axes>"
      ]
     },
     "metadata": {
      "needs_background": "light"
     },
     "output_type": "display_data"
    }
   ],
   "source": [
    "#Visualisation\n",
    "from matplotlib.lines import Line2D\n",
    "fig, ax = plt.subplots(1, figsize=(10,10))\n",
    "\n",
    "# plot des data\n",
    "plt.scatter(df_id['Nombre de vues'], df_id['Nombre de transactions'], c= df_id.c, alpha = 0.6, s=10)\n",
    "\n",
    "# Legende\n",
    "legend_elements = [Line2D([0], [0], marker='o', color='w', label='Cluster {}'.format(i+1), \n",
    "               markerfacecolor=mcolor, markersize=5) for i, mcolor in enumerate(colors)]\n",
    "\n",
    "# plot de la legende\n",
    "plt.legend(handles=legend_elements, loc='upper left')\n",
    "\n",
    "# titre et labels\n",
    "plt.title(\"Visualisation des utilisateurs\", bbox={'facecolor':'0.8', 'pad':5})\n",
    "plt.xlabel('Nombre de vues')\n",
    "plt.ylabel('Nombre de transactions')"
   ]
  },
  {
   "cell_type": "markdown",
   "metadata": {},
   "source": [
    "Grâce au clustering on observe 4 clusters distincts qui nous permettent d'isoler les utilisateurs ayant un comportement anormal.\n",
    "On peut émettre alors plusieurs hypothèses sur les utilisateurs présents dans le 3ème et 4ème clusters :\n",
    "- Il y a un bug et plusieurs clients utilisent le site avec le même id uilisateur.\n",
    "- Certains utilisateurs sont des clients b2b et font de très grosses commandes sur le site.\n",
    "- Certains utilisateurs sont en réalité des bots."
   ]
  },
  {
   "cell_type": "markdown",
   "metadata": {},
   "source": [
    "**AJOUT DU 16/04 :**\n",
    "\n",
    "\n",
    "Cette partie a pour objectif de créer des dataframes qui montrent les produits achetés, ajoutés au panier ou vu par les utilisateurs groupés par cluster.\n",
    "Pour commencer on crée un dataframe qui reprend certaines données de df_id : le cluster de chaque utilisateur avec tous les évènements qui le concernent."
   ]
  },
  {
   "cell_type": "code",
   "execution_count": 15,
   "metadata": {},
   "outputs": [
    {
     "data": {
      "text/html": [
       "<div>\n",
       "<style scoped>\n",
       "    .dataframe tbody tr th:only-of-type {\n",
       "        vertical-align: middle;\n",
       "    }\n",
       "\n",
       "    .dataframe tbody tr th {\n",
       "        vertical-align: top;\n",
       "    }\n",
       "\n",
       "    .dataframe thead th {\n",
       "        text-align: right;\n",
       "    }\n",
       "</style>\n",
       "<table border=\"1\" class=\"dataframe\">\n",
       "  <thead>\n",
       "    <tr style=\"text-align: right;\">\n",
       "      <th></th>\n",
       "      <th>cluster</th>\n",
       "      <th>Nombre de transactions</th>\n",
       "      <th>Nombre d'ajout au panier</th>\n",
       "      <th>Nombre de vues</th>\n",
       "    </tr>\n",
       "    <tr>\n",
       "      <th>visitorid</th>\n",
       "      <th></th>\n",
       "      <th></th>\n",
       "      <th></th>\n",
       "      <th></th>\n",
       "    </tr>\n",
       "  </thead>\n",
       "  <tbody>\n",
       "    <tr>\n",
       "      <th>1150086</th>\n",
       "      <td>2</td>\n",
       "      <td>559.0</td>\n",
       "      <td>719.0</td>\n",
       "      <td>6479.0</td>\n",
       "    </tr>\n",
       "    <tr>\n",
       "      <th>530559</th>\n",
       "      <td>1</td>\n",
       "      <td>286.0</td>\n",
       "      <td>419.0</td>\n",
       "      <td>3623.0</td>\n",
       "    </tr>\n",
       "    <tr>\n",
       "      <th>895999</th>\n",
       "      <td>1</td>\n",
       "      <td>50.0</td>\n",
       "      <td>56.0</td>\n",
       "      <td>2368.0</td>\n",
       "    </tr>\n",
       "    <tr>\n",
       "      <th>152963</th>\n",
       "      <td>1</td>\n",
       "      <td>349.0</td>\n",
       "      <td>371.0</td>\n",
       "      <td>2304.0</td>\n",
       "    </tr>\n",
       "    <tr>\n",
       "      <th>163561</th>\n",
       "      <td>1</td>\n",
       "      <td>92.0</td>\n",
       "      <td>124.0</td>\n",
       "      <td>2194.0</td>\n",
       "    </tr>\n",
       "    <tr>\n",
       "      <th>...</th>\n",
       "      <td>...</td>\n",
       "      <td>...</td>\n",
       "      <td>...</td>\n",
       "      <td>...</td>\n",
       "    </tr>\n",
       "    <tr>\n",
       "      <th>409939</th>\n",
       "      <td>0</td>\n",
       "      <td>1.0</td>\n",
       "      <td>0.0</td>\n",
       "      <td>0.0</td>\n",
       "    </tr>\n",
       "    <tr>\n",
       "      <th>684791</th>\n",
       "      <td>0</td>\n",
       "      <td>1.0</td>\n",
       "      <td>0.0</td>\n",
       "      <td>0.0</td>\n",
       "    </tr>\n",
       "    <tr>\n",
       "      <th>1246009</th>\n",
       "      <td>0</td>\n",
       "      <td>1.0</td>\n",
       "      <td>0.0</td>\n",
       "      <td>0.0</td>\n",
       "    </tr>\n",
       "    <tr>\n",
       "      <th>1214715</th>\n",
       "      <td>0</td>\n",
       "      <td>1.0</td>\n",
       "      <td>0.0</td>\n",
       "      <td>0.0</td>\n",
       "    </tr>\n",
       "    <tr>\n",
       "      <th>622280</th>\n",
       "      <td>0</td>\n",
       "      <td>1.0</td>\n",
       "      <td>0.0</td>\n",
       "      <td>0.0</td>\n",
       "    </tr>\n",
       "  </tbody>\n",
       "</table>\n",
       "<p>1407580 rows × 4 columns</p>\n",
       "</div>"
      ],
      "text/plain": [
       "           cluster  Nombre de transactions  Nombre d'ajout au panier  \\\n",
       "visitorid                                                              \n",
       "1150086          2                   559.0                     719.0   \n",
       "530559           1                   286.0                     419.0   \n",
       "895999           1                    50.0                      56.0   \n",
       "152963           1                   349.0                     371.0   \n",
       "163561           1                    92.0                     124.0   \n",
       "...            ...                     ...                       ...   \n",
       "409939           0                     1.0                       0.0   \n",
       "684791           0                     1.0                       0.0   \n",
       "1246009          0                     1.0                       0.0   \n",
       "1214715          0                     1.0                       0.0   \n",
       "622280           0                     1.0                       0.0   \n",
       "\n",
       "           Nombre de vues  \n",
       "visitorid                  \n",
       "1150086            6479.0  \n",
       "530559             3623.0  \n",
       "895999             2368.0  \n",
       "152963             2304.0  \n",
       "163561             2194.0  \n",
       "...                   ...  \n",
       "409939                0.0  \n",
       "684791                0.0  \n",
       "1246009               0.0  \n",
       "1214715               0.0  \n",
       "622280                0.0  \n",
       "\n",
       "[1407580 rows x 4 columns]"
      ]
     },
     "execution_count": 15,
     "metadata": {},
     "output_type": "execute_result"
    }
   ],
   "source": [
    "df_id_cluster = df_id[['cluster','Nombre de transactions','Nombre d\\'ajout au panier','Nombre de vues']]\n",
    "df_id_cluster"
   ]
  },
  {
   "cell_type": "markdown",
   "metadata": {},
   "source": [
    "* On cherche à identifier le nombre de visiteurs qui correspondent à chaque cluster :"
   ]
  },
  {
   "cell_type": "markdown",
   "metadata": {},
   "source": [
    "_On observe une grande disproportion de visiteurs entre les clusters. Les clusters 1, 2 et 3 présentent des utilisateurs aux comprtements extrêmes et qu'il faudra traiter séparemment (traitement business, recherche d'un bug technique…étude à approfondir)._"
   ]
  },
  {
   "cell_type": "code",
   "execution_count": 16,
   "metadata": {},
   "outputs": [
    {
     "name": "stdout",
     "output_type": "stream",
     "text": [
      "3401  visiteurs, tous clusters confondus, sont venus sur le site sans regarder un seul item\n",
      "1369858  visiteurs, tous clusters confondus, sont venus sur le site sans ajouter au panier un seul item\n",
      "1395861  visiteurs, tous clusters confondus, sont venus sur le site sans acheter un seul item\n"
     ]
    }
   ],
   "source": [
    "vuesdf = df_id_cluster.index[df_id['Nombre de vues'] == 0].nunique()\n",
    "print(vuesdf, ' visiteurs, tous clusters confondus, sont venus sur le site sans regarder un seul item')\n",
    "\n",
    "panierdf = df_id_cluster.index[df_id['Nombre d\\'ajout au panier'] == 0].nunique()\n",
    "print(panierdf, ' visiteurs, tous clusters confondus, sont venus sur le site sans ajouter au panier un seul item')\n",
    "\n",
    "transacdf = df_id_cluster.index[df_id['Nombre de transactions'] == 0].nunique()\n",
    "print(transacdf, ' visiteurs, tous clusters confondus, sont venus sur le site sans acheter un seul item')"
   ]
  },
  {
   "cell_type": "markdown",
   "metadata": {},
   "source": [
    "* Il est intéressant de visualiser par cluster le nombre de vues, d'ajouts au panier et de transactions :"
   ]
  },
  {
   "cell_type": "code",
   "execution_count": 17,
   "metadata": {},
   "outputs": [
    {
     "data": {
      "text/html": [
       "<div>\n",
       "<style scoped>\n",
       "    .dataframe tbody tr th:only-of-type {\n",
       "        vertical-align: middle;\n",
       "    }\n",
       "\n",
       "    .dataframe tbody tr th {\n",
       "        vertical-align: top;\n",
       "    }\n",
       "\n",
       "    .dataframe thead th {\n",
       "        text-align: right;\n",
       "    }\n",
       "</style>\n",
       "<table border=\"1\" class=\"dataframe\">\n",
       "  <thead>\n",
       "    <tr style=\"text-align: right;\">\n",
       "      <th></th>\n",
       "      <th>Nombre de transactions</th>\n",
       "      <th>Nombre d'ajout au panier</th>\n",
       "      <th>Nombre de vues</th>\n",
       "    </tr>\n",
       "    <tr>\n",
       "      <th>cluster</th>\n",
       "      <th></th>\n",
       "      <th></th>\n",
       "      <th></th>\n",
       "    </tr>\n",
       "  </thead>\n",
       "  <tbody>\n",
       "    <tr>\n",
       "      <th>0</th>\n",
       "      <td>17063.0</td>\n",
       "      <td>61719.0</td>\n",
       "      <td>2556820.0</td>\n",
       "    </tr>\n",
       "    <tr>\n",
       "      <th>1</th>\n",
       "      <td>2570.0</td>\n",
       "      <td>3342.0</td>\n",
       "      <td>43122.0</td>\n",
       "    </tr>\n",
       "    <tr>\n",
       "      <th>2</th>\n",
       "      <td>559.0</td>\n",
       "      <td>719.0</td>\n",
       "      <td>6479.0</td>\n",
       "    </tr>\n",
       "    <tr>\n",
       "      <th>3</th>\n",
       "      <td>2265.0</td>\n",
       "      <td>3552.0</td>\n",
       "      <td>57891.0</td>\n",
       "    </tr>\n",
       "  </tbody>\n",
       "</table>\n",
       "</div>"
      ],
      "text/plain": [
       "         Nombre de transactions  Nombre d'ajout au panier  Nombre de vues\n",
       "cluster                                                                  \n",
       "0                       17063.0                   61719.0       2556820.0\n",
       "1                        2570.0                    3342.0         43122.0\n",
       "2                         559.0                     719.0          6479.0\n",
       "3                        2265.0                    3552.0         57891.0"
      ]
     },
     "execution_count": 17,
     "metadata": {},
     "output_type": "execute_result"
    }
   ],
   "source": [
    "df_nb_views_cluster = df_id_cluster.groupby('cluster').sum()\n",
    "df_nb_views_cluster.head()"
   ]
  },
  {
   "cell_type": "markdown",
   "metadata": {},
   "source": [
    "_Au regard du nombre de vues conséquent sur le cluster 0, il sera intéressant de le séparer en sous-clusters pour étudier la population de visiteurs plus finement. Ce qu'on fera ultérieurement._\n",
    "\n",
    "* on créer un nouveau dataframe qui permet de lier les informations que l'on a sur chaque visiteur selon son cluster d'appartenance mais en y ajoutant l'itemid. Cela nous permet de voir quels produits ont été visités par visiteur."
   ]
  },
  {
   "cell_type": "code",
   "execution_count": 18,
   "metadata": {},
   "outputs": [
    {
     "data": {
      "text/html": [
       "<div>\n",
       "<style scoped>\n",
       "    .dataframe tbody tr th:only-of-type {\n",
       "        vertical-align: middle;\n",
       "    }\n",
       "\n",
       "    .dataframe tbody tr th {\n",
       "        vertical-align: top;\n",
       "    }\n",
       "\n",
       "    .dataframe thead th {\n",
       "        text-align: right;\n",
       "    }\n",
       "</style>\n",
       "<table border=\"1\" class=\"dataframe\">\n",
       "  <thead>\n",
       "    <tr style=\"text-align: right;\">\n",
       "      <th></th>\n",
       "      <th>timestamp</th>\n",
       "      <th>visitorid</th>\n",
       "      <th>event</th>\n",
       "      <th>itemid</th>\n",
       "      <th>transactionid</th>\n",
       "      <th>day_of_week</th>\n",
       "      <th>events_addtocart</th>\n",
       "      <th>events_transaction</th>\n",
       "      <th>events_view</th>\n",
       "      <th>cluster</th>\n",
       "      <th>Nombre de transactions</th>\n",
       "      <th>Nombre d'ajout au panier</th>\n",
       "      <th>Nombre de vues</th>\n",
       "    </tr>\n",
       "  </thead>\n",
       "  <tbody>\n",
       "    <tr>\n",
       "      <th>0</th>\n",
       "      <td>2015-06-02 00:02:12.117</td>\n",
       "      <td>257597</td>\n",
       "      <td>view</td>\n",
       "      <td>355908</td>\n",
       "      <td>NaN</td>\n",
       "      <td>Tuesday</td>\n",
       "      <td>0</td>\n",
       "      <td>0</td>\n",
       "      <td>1</td>\n",
       "      <td>0</td>\n",
       "      <td>0.0</td>\n",
       "      <td>0.0</td>\n",
       "      <td>2.0</td>\n",
       "    </tr>\n",
       "    <tr>\n",
       "      <th>1</th>\n",
       "      <td>2015-06-08 17:00:21.247</td>\n",
       "      <td>257597</td>\n",
       "      <td>view</td>\n",
       "      <td>302696</td>\n",
       "      <td>NaN</td>\n",
       "      <td>Monday</td>\n",
       "      <td>0</td>\n",
       "      <td>0</td>\n",
       "      <td>1</td>\n",
       "      <td>0</td>\n",
       "      <td>0.0</td>\n",
       "      <td>0.0</td>\n",
       "      <td>2.0</td>\n",
       "    </tr>\n",
       "    <tr>\n",
       "      <th>2</th>\n",
       "      <td>2015-06-02 00:50:14.164</td>\n",
       "      <td>992329</td>\n",
       "      <td>view</td>\n",
       "      <td>248676</td>\n",
       "      <td>NaN</td>\n",
       "      <td>Tuesday</td>\n",
       "      <td>0</td>\n",
       "      <td>0</td>\n",
       "      <td>1</td>\n",
       "      <td>0</td>\n",
       "      <td>0.0</td>\n",
       "      <td>0.0</td>\n",
       "      <td>30.0</td>\n",
       "    </tr>\n",
       "    <tr>\n",
       "      <th>3</th>\n",
       "      <td>2015-06-02 00:57:52.007</td>\n",
       "      <td>992329</td>\n",
       "      <td>view</td>\n",
       "      <td>193150</td>\n",
       "      <td>NaN</td>\n",
       "      <td>Tuesday</td>\n",
       "      <td>0</td>\n",
       "      <td>0</td>\n",
       "      <td>1</td>\n",
       "      <td>0</td>\n",
       "      <td>0.0</td>\n",
       "      <td>0.0</td>\n",
       "      <td>30.0</td>\n",
       "    </tr>\n",
       "    <tr>\n",
       "      <th>4</th>\n",
       "      <td>2015-06-02 01:12:35.976</td>\n",
       "      <td>992329</td>\n",
       "      <td>view</td>\n",
       "      <td>246453</td>\n",
       "      <td>NaN</td>\n",
       "      <td>Tuesday</td>\n",
       "      <td>0</td>\n",
       "      <td>0</td>\n",
       "      <td>1</td>\n",
       "      <td>0</td>\n",
       "      <td>0.0</td>\n",
       "      <td>0.0</td>\n",
       "      <td>30.0</td>\n",
       "    </tr>\n",
       "  </tbody>\n",
       "</table>\n",
       "</div>"
      ],
      "text/plain": [
       "                timestamp  visitorid event  itemid  transactionid day_of_week  \\\n",
       "0 2015-06-02 00:02:12.117     257597  view  355908            NaN     Tuesday   \n",
       "1 2015-06-08 17:00:21.247     257597  view  302696            NaN      Monday   \n",
       "2 2015-06-02 00:50:14.164     992329  view  248676            NaN     Tuesday   \n",
       "3 2015-06-02 00:57:52.007     992329  view  193150            NaN     Tuesday   \n",
       "4 2015-06-02 01:12:35.976     992329  view  246453            NaN     Tuesday   \n",
       "\n",
       "   events_addtocart  events_transaction  events_view  cluster  \\\n",
       "0                 0                   0            1        0   \n",
       "1                 0                   0            1        0   \n",
       "2                 0                   0            1        0   \n",
       "3                 0                   0            1        0   \n",
       "4                 0                   0            1        0   \n",
       "\n",
       "   Nombre de transactions  Nombre d'ajout au panier  Nombre de vues  \n",
       "0                     0.0                       0.0             2.0  \n",
       "1                     0.0                       0.0             2.0  \n",
       "2                     0.0                       0.0            30.0  \n",
       "3                     0.0                       0.0            30.0  \n",
       "4                     0.0                       0.0            30.0  "
      ]
     },
     "execution_count": 18,
     "metadata": {},
     "output_type": "execute_result"
    }
   ],
   "source": [
    "df_linked = df_events.merge(right  = df_id_cluster, on = 'visitorid', how = 'inner')\n",
    "df_linked.head()"
   ]
  },
  {
   "cell_type": "markdown",
   "metadata": {},
   "source": [
    "* Le dataframe suivant représente le nombre total d'événements en fonction des clusters et de chaque produit :"
   ]
  },
  {
   "cell_type": "code",
   "execution_count": 19,
   "metadata": {},
   "outputs": [
    {
     "data": {
      "text/html": [
       "<div>\n",
       "<style scoped>\n",
       "    .dataframe tbody tr th:only-of-type {\n",
       "        vertical-align: middle;\n",
       "    }\n",
       "\n",
       "    .dataframe tbody tr th {\n",
       "        vertical-align: top;\n",
       "    }\n",
       "\n",
       "    .dataframe thead th {\n",
       "        text-align: right;\n",
       "    }\n",
       "</style>\n",
       "<table border=\"1\" class=\"dataframe\">\n",
       "  <thead>\n",
       "    <tr style=\"text-align: right;\">\n",
       "      <th>cluster</th>\n",
       "      <th>0</th>\n",
       "      <th>1</th>\n",
       "      <th>2</th>\n",
       "      <th>3</th>\n",
       "      <th>Total</th>\n",
       "    </tr>\n",
       "    <tr>\n",
       "      <th>itemid</th>\n",
       "      <th></th>\n",
       "      <th></th>\n",
       "      <th></th>\n",
       "      <th></th>\n",
       "      <th></th>\n",
       "    </tr>\n",
       "  </thead>\n",
       "  <tbody>\n",
       "    <tr>\n",
       "      <th>187946</th>\n",
       "      <td>3411</td>\n",
       "      <td>0</td>\n",
       "      <td>0</td>\n",
       "      <td>1</td>\n",
       "      <td>3412</td>\n",
       "    </tr>\n",
       "    <tr>\n",
       "      <th>461686</th>\n",
       "      <td>2810</td>\n",
       "      <td>61</td>\n",
       "      <td>29</td>\n",
       "      <td>78</td>\n",
       "      <td>2978</td>\n",
       "    </tr>\n",
       "    <tr>\n",
       "      <th>5411</th>\n",
       "      <td>2320</td>\n",
       "      <td>4</td>\n",
       "      <td>0</td>\n",
       "      <td>10</td>\n",
       "      <td>2334</td>\n",
       "    </tr>\n",
       "    <tr>\n",
       "      <th>370653</th>\n",
       "      <td>1853</td>\n",
       "      <td>0</td>\n",
       "      <td>0</td>\n",
       "      <td>1</td>\n",
       "      <td>1854</td>\n",
       "    </tr>\n",
       "    <tr>\n",
       "      <th>219512</th>\n",
       "      <td>1736</td>\n",
       "      <td>30</td>\n",
       "      <td>11</td>\n",
       "      <td>23</td>\n",
       "      <td>1800</td>\n",
       "    </tr>\n",
       "    <tr>\n",
       "      <th>...</th>\n",
       "      <td>...</td>\n",
       "      <td>...</td>\n",
       "      <td>...</td>\n",
       "      <td>...</td>\n",
       "      <td>...</td>\n",
       "    </tr>\n",
       "    <tr>\n",
       "      <th>356847</th>\n",
       "      <td>1</td>\n",
       "      <td>0</td>\n",
       "      <td>0</td>\n",
       "      <td>0</td>\n",
       "      <td>1</td>\n",
       "    </tr>\n",
       "    <tr>\n",
       "      <th>356844</th>\n",
       "      <td>1</td>\n",
       "      <td>0</td>\n",
       "      <td>0</td>\n",
       "      <td>0</td>\n",
       "      <td>1</td>\n",
       "    </tr>\n",
       "    <tr>\n",
       "      <th>356843</th>\n",
       "      <td>1</td>\n",
       "      <td>0</td>\n",
       "      <td>0</td>\n",
       "      <td>0</td>\n",
       "      <td>1</td>\n",
       "    </tr>\n",
       "    <tr>\n",
       "      <th>79432</th>\n",
       "      <td>1</td>\n",
       "      <td>0</td>\n",
       "      <td>0</td>\n",
       "      <td>0</td>\n",
       "      <td>1</td>\n",
       "    </tr>\n",
       "    <tr>\n",
       "      <th>197289</th>\n",
       "      <td>1</td>\n",
       "      <td>0</td>\n",
       "      <td>0</td>\n",
       "      <td>0</td>\n",
       "      <td>1</td>\n",
       "    </tr>\n",
       "  </tbody>\n",
       "</table>\n",
       "<p>235061 rows × 5 columns</p>\n",
       "</div>"
      ],
      "text/plain": [
       "cluster     0   1   2   3  Total\n",
       "itemid                          \n",
       "187946   3411   0   0   1   3412\n",
       "461686   2810  61  29  78   2978\n",
       "5411     2320   4   0  10   2334\n",
       "370653   1853   0   0   1   1854\n",
       "219512   1736  30  11  23   1800\n",
       "...       ...  ..  ..  ..    ...\n",
       "356847      1   0   0   0      1\n",
       "356844      1   0   0   0      1\n",
       "356843      1   0   0   0      1\n",
       "79432       1   0   0   0      1\n",
       "197289      1   0   0   0      1\n",
       "\n",
       "[235061 rows x 5 columns]"
      ]
     },
     "execution_count": 19,
     "metadata": {},
     "output_type": "execute_result"
    }
   ],
   "source": [
    "df_table = pd.crosstab(df_linked[\"itemid\"],df_linked[\"cluster\"])\n",
    "sum_column = df_table[1] + df_table[2] + df_table[3] + df_table[0]\n",
    "df_table['Total'] = sum_column\n",
    "df_table = df_table.sort_values(by = 'Total', ascending = False)\n",
    "df_table"
   ]
  },
  {
   "cell_type": "markdown",
   "metadata": {},
   "source": [
    "* Les dataframes suivants suivent les mêmes principes mais cette fois-ci en fonction du type d'événement : vue, ajout au panier et transaction :"
   ]
  },
  {
   "cell_type": "code",
   "execution_count": 20,
   "metadata": {},
   "outputs": [
    {
     "data": {
      "text/html": [
       "<div>\n",
       "<style scoped>\n",
       "    .dataframe tbody tr th:only-of-type {\n",
       "        vertical-align: middle;\n",
       "    }\n",
       "\n",
       "    .dataframe tbody tr th {\n",
       "        vertical-align: top;\n",
       "    }\n",
       "\n",
       "    .dataframe thead th {\n",
       "        text-align: right;\n",
       "    }\n",
       "</style>\n",
       "<table border=\"1\" class=\"dataframe\">\n",
       "  <thead>\n",
       "    <tr style=\"text-align: right;\">\n",
       "      <th>cluster</th>\n",
       "      <th>0</th>\n",
       "      <th>1</th>\n",
       "      <th>2</th>\n",
       "      <th>3</th>\n",
       "      <th>Total</th>\n",
       "    </tr>\n",
       "    <tr>\n",
       "      <th>itemid</th>\n",
       "      <th></th>\n",
       "      <th></th>\n",
       "      <th></th>\n",
       "      <th></th>\n",
       "      <th></th>\n",
       "    </tr>\n",
       "  </thead>\n",
       "  <tbody>\n",
       "    <tr>\n",
       "      <th>187946</th>\n",
       "      <td>3409</td>\n",
       "      <td>0</td>\n",
       "      <td>0</td>\n",
       "      <td>1</td>\n",
       "      <td>3410</td>\n",
       "    </tr>\n",
       "    <tr>\n",
       "      <th>461686</th>\n",
       "      <td>2514</td>\n",
       "      <td>58</td>\n",
       "      <td>25</td>\n",
       "      <td>75</td>\n",
       "      <td>2672</td>\n",
       "    </tr>\n",
       "    <tr>\n",
       "      <th>5411</th>\n",
       "      <td>2312</td>\n",
       "      <td>4</td>\n",
       "      <td>0</td>\n",
       "      <td>9</td>\n",
       "      <td>2325</td>\n",
       "    </tr>\n",
       "    <tr>\n",
       "      <th>370653</th>\n",
       "      <td>1853</td>\n",
       "      <td>0</td>\n",
       "      <td>0</td>\n",
       "      <td>1</td>\n",
       "      <td>1854</td>\n",
       "    </tr>\n",
       "    <tr>\n",
       "      <th>219512</th>\n",
       "      <td>1691</td>\n",
       "      <td>28</td>\n",
       "      <td>10</td>\n",
       "      <td>23</td>\n",
       "      <td>1752</td>\n",
       "    </tr>\n",
       "    <tr>\n",
       "      <th>...</th>\n",
       "      <td>...</td>\n",
       "      <td>...</td>\n",
       "      <td>...</td>\n",
       "      <td>...</td>\n",
       "      <td>...</td>\n",
       "    </tr>\n",
       "    <tr>\n",
       "      <th>154410</th>\n",
       "      <td>1</td>\n",
       "      <td>0</td>\n",
       "      <td>0</td>\n",
       "      <td>0</td>\n",
       "      <td>1</td>\n",
       "    </tr>\n",
       "    <tr>\n",
       "      <th>71262</th>\n",
       "      <td>1</td>\n",
       "      <td>0</td>\n",
       "      <td>0</td>\n",
       "      <td>0</td>\n",
       "      <td>1</td>\n",
       "    </tr>\n",
       "    <tr>\n",
       "      <th>309388</th>\n",
       "      <td>1</td>\n",
       "      <td>0</td>\n",
       "      <td>0</td>\n",
       "      <td>0</td>\n",
       "      <td>1</td>\n",
       "    </tr>\n",
       "    <tr>\n",
       "      <th>286303</th>\n",
       "      <td>1</td>\n",
       "      <td>0</td>\n",
       "      <td>0</td>\n",
       "      <td>0</td>\n",
       "      <td>1</td>\n",
       "    </tr>\n",
       "    <tr>\n",
       "      <th>380635</th>\n",
       "      <td>1</td>\n",
       "      <td>0</td>\n",
       "      <td>0</td>\n",
       "      <td>0</td>\n",
       "      <td>1</td>\n",
       "    </tr>\n",
       "  </tbody>\n",
       "</table>\n",
       "<p>234844 rows × 5 columns</p>\n",
       "</div>"
      ],
      "text/plain": [
       "cluster     0   1   2   3  Total\n",
       "itemid                          \n",
       "187946   3409   0   0   1   3410\n",
       "461686   2514  58  25  75   2672\n",
       "5411     2312   4   0   9   2325\n",
       "370653   1853   0   0   1   1854\n",
       "219512   1691  28  10  23   1752\n",
       "...       ...  ..  ..  ..    ...\n",
       "154410      1   0   0   0      1\n",
       "71262       1   0   0   0      1\n",
       "309388      1   0   0   0      1\n",
       "286303      1   0   0   0      1\n",
       "380635      1   0   0   0      1\n",
       "\n",
       "[234844 rows x 5 columns]"
      ]
     },
     "execution_count": 20,
     "metadata": {},
     "output_type": "execute_result"
    }
   ],
   "source": [
    "df_view = df_linked[df_linked['event'] != 'transactions']\n",
    "df_view = df_view[df_view['event'] != 'addtocart']\n",
    "\n",
    "table_view = pd.crosstab(df_view[\"itemid\"],df_view[\"cluster\"])\n",
    "sum_column = table_view[1] + table_view[2] + table_view[3] + table_view[0]\n",
    "table_view['Total'] = sum_column\n",
    "table_view = table_view.sort_values(by = 'Total', ascending = False)\n",
    "table_view"
   ]
  },
  {
   "cell_type": "code",
   "execution_count": 21,
   "metadata": {},
   "outputs": [
    {
     "data": {
      "text/html": [
       "<div>\n",
       "<style scoped>\n",
       "    .dataframe tbody tr th:only-of-type {\n",
       "        vertical-align: middle;\n",
       "    }\n",
       "\n",
       "    .dataframe tbody tr th {\n",
       "        vertical-align: top;\n",
       "    }\n",
       "\n",
       "    .dataframe thead th {\n",
       "        text-align: right;\n",
       "    }\n",
       "</style>\n",
       "<table border=\"1\" class=\"dataframe\">\n",
       "  <thead>\n",
       "    <tr style=\"text-align: right;\">\n",
       "      <th>cluster</th>\n",
       "      <th>0</th>\n",
       "      <th>1</th>\n",
       "      <th>2</th>\n",
       "      <th>3</th>\n",
       "      <th>Total</th>\n",
       "    </tr>\n",
       "    <tr>\n",
       "      <th>itemid</th>\n",
       "      <th></th>\n",
       "      <th></th>\n",
       "      <th></th>\n",
       "      <th></th>\n",
       "      <th></th>\n",
       "    </tr>\n",
       "  </thead>\n",
       "  <tbody>\n",
       "    <tr>\n",
       "      <th>461686</th>\n",
       "      <td>421</td>\n",
       "      <td>6</td>\n",
       "      <td>6</td>\n",
       "      <td>6</td>\n",
       "      <td>439</td>\n",
       "    </tr>\n",
       "    <tr>\n",
       "      <th>312728</th>\n",
       "      <td>172</td>\n",
       "      <td>4</td>\n",
       "      <td>0</td>\n",
       "      <td>32</td>\n",
       "      <td>208</td>\n",
       "    </tr>\n",
       "    <tr>\n",
       "      <th>409804</th>\n",
       "      <td>166</td>\n",
       "      <td>10</td>\n",
       "      <td>2</td>\n",
       "      <td>13</td>\n",
       "      <td>191</td>\n",
       "    </tr>\n",
       "    <tr>\n",
       "      <th>320130</th>\n",
       "      <td>151</td>\n",
       "      <td>8</td>\n",
       "      <td>2</td>\n",
       "      <td>13</td>\n",
       "      <td>174</td>\n",
       "    </tr>\n",
       "    <tr>\n",
       "      <th>29196</th>\n",
       "      <td>123</td>\n",
       "      <td>0</td>\n",
       "      <td>2</td>\n",
       "      <td>30</td>\n",
       "      <td>155</td>\n",
       "    </tr>\n",
       "    <tr>\n",
       "      <th>...</th>\n",
       "      <td>...</td>\n",
       "      <td>...</td>\n",
       "      <td>...</td>\n",
       "      <td>...</td>\n",
       "      <td>...</td>\n",
       "    </tr>\n",
       "    <tr>\n",
       "      <th>284252</th>\n",
       "      <td>1</td>\n",
       "      <td>0</td>\n",
       "      <td>0</td>\n",
       "      <td>0</td>\n",
       "      <td>1</td>\n",
       "    </tr>\n",
       "    <tr>\n",
       "      <th>284259</th>\n",
       "      <td>1</td>\n",
       "      <td>0</td>\n",
       "      <td>0</td>\n",
       "      <td>0</td>\n",
       "      <td>1</td>\n",
       "    </tr>\n",
       "    <tr>\n",
       "      <th>284265</th>\n",
       "      <td>1</td>\n",
       "      <td>0</td>\n",
       "      <td>0</td>\n",
       "      <td>0</td>\n",
       "      <td>1</td>\n",
       "    </tr>\n",
       "    <tr>\n",
       "      <th>284290</th>\n",
       "      <td>1</td>\n",
       "      <td>0</td>\n",
       "      <td>0</td>\n",
       "      <td>0</td>\n",
       "      <td>1</td>\n",
       "    </tr>\n",
       "    <tr>\n",
       "      <th>65284</th>\n",
       "      <td>1</td>\n",
       "      <td>0</td>\n",
       "      <td>0</td>\n",
       "      <td>0</td>\n",
       "      <td>1</td>\n",
       "    </tr>\n",
       "  </tbody>\n",
       "</table>\n",
       "<p>24316 rows × 5 columns</p>\n",
       "</div>"
      ],
      "text/plain": [
       "cluster    0   1  2   3  Total\n",
       "itemid                        \n",
       "461686   421   6  6   6    439\n",
       "312728   172   4  0  32    208\n",
       "409804   166  10  2  13    191\n",
       "320130   151   8  2  13    174\n",
       "29196    123   0  2  30    155\n",
       "...      ...  .. ..  ..    ...\n",
       "284252     1   0  0   0      1\n",
       "284259     1   0  0   0      1\n",
       "284265     1   0  0   0      1\n",
       "284290     1   0  0   0      1\n",
       "65284      1   0  0   0      1\n",
       "\n",
       "[24316 rows x 5 columns]"
      ]
     },
     "execution_count": 21,
     "metadata": {},
     "output_type": "execute_result"
    }
   ],
   "source": [
    "df_addtocart = df_linked[df_linked['event'] != 'view']\n",
    "df_addtocart = df_addtocart[df_addtocart['event'] != 'transactions']\n",
    "\n",
    "table_addtocart = pd.crosstab(df_addtocart[\"itemid\"],df_addtocart[\"cluster\"])\n",
    "sum_column = table_addtocart[1] + table_addtocart[2] + table_addtocart[3] + table_addtocart[0]\n",
    "table_addtocart['Total'] = sum_column\n",
    "table_addtocart = table_addtocart.sort_values(by = 'Total', ascending = False)\n",
    "table_addtocart"
   ]
  },
  {
   "cell_type": "code",
   "execution_count": 22,
   "metadata": {},
   "outputs": [
    {
     "data": {
      "text/html": [
       "<div>\n",
       "<style scoped>\n",
       "    .dataframe tbody tr th:only-of-type {\n",
       "        vertical-align: middle;\n",
       "    }\n",
       "\n",
       "    .dataframe tbody tr th {\n",
       "        vertical-align: top;\n",
       "    }\n",
       "\n",
       "    .dataframe thead th {\n",
       "        text-align: right;\n",
       "    }\n",
       "</style>\n",
       "<table border=\"1\" class=\"dataframe\">\n",
       "  <thead>\n",
       "    <tr style=\"text-align: right;\">\n",
       "      <th>cluster</th>\n",
       "      <th>0</th>\n",
       "      <th>1</th>\n",
       "      <th>2</th>\n",
       "      <th>3</th>\n",
       "      <th>Total</th>\n",
       "    </tr>\n",
       "    <tr>\n",
       "      <th>itemid</th>\n",
       "      <th></th>\n",
       "      <th></th>\n",
       "      <th></th>\n",
       "      <th></th>\n",
       "      <th></th>\n",
       "    </tr>\n",
       "  </thead>\n",
       "  <tbody>\n",
       "    <tr>\n",
       "      <th>461686</th>\n",
       "      <td>125</td>\n",
       "      <td>3</td>\n",
       "      <td>2</td>\n",
       "      <td>3</td>\n",
       "      <td>133</td>\n",
       "    </tr>\n",
       "    <tr>\n",
       "      <th>119736</th>\n",
       "      <td>14</td>\n",
       "      <td>45</td>\n",
       "      <td>1</td>\n",
       "      <td>37</td>\n",
       "      <td>97</td>\n",
       "    </tr>\n",
       "    <tr>\n",
       "      <th>213834</th>\n",
       "      <td>65</td>\n",
       "      <td>11</td>\n",
       "      <td>2</td>\n",
       "      <td>14</td>\n",
       "      <td>92</td>\n",
       "    </tr>\n",
       "    <tr>\n",
       "      <th>312728</th>\n",
       "      <td>38</td>\n",
       "      <td>0</td>\n",
       "      <td>0</td>\n",
       "      <td>8</td>\n",
       "      <td>46</td>\n",
       "    </tr>\n",
       "    <tr>\n",
       "      <th>7943</th>\n",
       "      <td>41</td>\n",
       "      <td>0</td>\n",
       "      <td>1</td>\n",
       "      <td>4</td>\n",
       "      <td>46</td>\n",
       "    </tr>\n",
       "    <tr>\n",
       "      <th>...</th>\n",
       "      <td>...</td>\n",
       "      <td>...</td>\n",
       "      <td>...</td>\n",
       "      <td>...</td>\n",
       "      <td>...</td>\n",
       "    </tr>\n",
       "    <tr>\n",
       "      <th>190034</th>\n",
       "      <td>1</td>\n",
       "      <td>0</td>\n",
       "      <td>0</td>\n",
       "      <td>0</td>\n",
       "      <td>1</td>\n",
       "    </tr>\n",
       "    <tr>\n",
       "      <th>190095</th>\n",
       "      <td>1</td>\n",
       "      <td>0</td>\n",
       "      <td>0</td>\n",
       "      <td>0</td>\n",
       "      <td>1</td>\n",
       "    </tr>\n",
       "    <tr>\n",
       "      <th>190243</th>\n",
       "      <td>1</td>\n",
       "      <td>0</td>\n",
       "      <td>0</td>\n",
       "      <td>0</td>\n",
       "      <td>1</td>\n",
       "    </tr>\n",
       "    <tr>\n",
       "      <th>190246</th>\n",
       "      <td>1</td>\n",
       "      <td>0</td>\n",
       "      <td>0</td>\n",
       "      <td>0</td>\n",
       "      <td>1</td>\n",
       "    </tr>\n",
       "    <tr>\n",
       "      <th>466861</th>\n",
       "      <td>1</td>\n",
       "      <td>0</td>\n",
       "      <td>0</td>\n",
       "      <td>0</td>\n",
       "      <td>1</td>\n",
       "    </tr>\n",
       "  </tbody>\n",
       "</table>\n",
       "<p>12025 rows × 5 columns</p>\n",
       "</div>"
      ],
      "text/plain": [
       "cluster    0   1  2   3  Total\n",
       "itemid                        \n",
       "461686   125   3  2   3    133\n",
       "119736    14  45  1  37     97\n",
       "213834    65  11  2  14     92\n",
       "312728    38   0  0   8     46\n",
       "7943      41   0  1   4     46\n",
       "...      ...  .. ..  ..    ...\n",
       "190034     1   0  0   0      1\n",
       "190095     1   0  0   0      1\n",
       "190243     1   0  0   0      1\n",
       "190246     1   0  0   0      1\n",
       "466861     1   0  0   0      1\n",
       "\n",
       "[12025 rows x 5 columns]"
      ]
     },
     "execution_count": 22,
     "metadata": {},
     "output_type": "execute_result"
    }
   ],
   "source": [
    "df_transaction = df_linked[df_linked['event'] != 'view']\n",
    "df_transaction = df_transaction[df_transaction['event'] != 'addtocart']\n",
    "\n",
    "table_transaction = pd.crosstab(df_transaction [\"itemid\"],df_transaction [\"cluster\"])\n",
    "sum_column = table_transaction[1] + table_transaction[2] + table_transaction[3] + table_transaction[0]\n",
    "\n",
    "table_transaction['Total'] = sum_column\n",
    "table_transaction = table_transaction.sort_values(by = 'Total', ascending = False)\n",
    "table_transaction"
   ]
  },
  {
   "cell_type": "markdown",
   "metadata": {},
   "source": [
    "_Afin d'augmenter la précision de nos analyses, nous allons nous concentrer sur le cluster 0 qui concentre 99.98% des utilisateurs._\n",
    "\n",
    "* Pour cela nous allons faire une étude spécifiquement sur les utilisateurs du cluster 0. Création d'un nouveau dataframe contenant les utilisateurs du cluster 0 :"
   ]
  },
  {
   "cell_type": "code",
   "execution_count": 23,
   "metadata": {},
   "outputs": [
    {
     "data": {
      "text/html": [
       "<div>\n",
       "<style scoped>\n",
       "    .dataframe tbody tr th:only-of-type {\n",
       "        vertical-align: middle;\n",
       "    }\n",
       "\n",
       "    .dataframe tbody tr th {\n",
       "        vertical-align: top;\n",
       "    }\n",
       "\n",
       "    .dataframe thead th {\n",
       "        text-align: right;\n",
       "    }\n",
       "</style>\n",
       "<table border=\"1\" class=\"dataframe\">\n",
       "  <thead>\n",
       "    <tr style=\"text-align: right;\">\n",
       "      <th></th>\n",
       "      <th>Nombre de vues</th>\n",
       "      <th>Nombre d'ajout au panier</th>\n",
       "      <th>Nombre de transactions</th>\n",
       "    </tr>\n",
       "    <tr>\n",
       "      <th>visitorid</th>\n",
       "      <th></th>\n",
       "      <th></th>\n",
       "      <th></th>\n",
       "    </tr>\n",
       "  </thead>\n",
       "  <tbody>\n",
       "    <tr>\n",
       "      <th>317355</th>\n",
       "      <td>228.0</td>\n",
       "      <td>5.0</td>\n",
       "      <td>0.0</td>\n",
       "    </tr>\n",
       "    <tr>\n",
       "      <th>1035814</th>\n",
       "      <td>224.0</td>\n",
       "      <td>42.0</td>\n",
       "      <td>31.0</td>\n",
       "    </tr>\n",
       "    <tr>\n",
       "      <th>438441</th>\n",
       "      <td>222.0</td>\n",
       "      <td>42.0</td>\n",
       "      <td>47.0</td>\n",
       "    </tr>\n",
       "    <tr>\n",
       "      <th>797409</th>\n",
       "      <td>221.0</td>\n",
       "      <td>48.0</td>\n",
       "      <td>40.0</td>\n",
       "    </tr>\n",
       "    <tr>\n",
       "      <th>1381830</th>\n",
       "      <td>221.0</td>\n",
       "      <td>6.0</td>\n",
       "      <td>2.0</td>\n",
       "    </tr>\n",
       "  </tbody>\n",
       "</table>\n",
       "</div>"
      ],
      "text/plain": [
       "           Nombre de vues  Nombre d'ajout au panier  Nombre de transactions\n",
       "visitorid                                                                  \n",
       "317355              228.0                       5.0                     0.0\n",
       "1035814             224.0                      42.0                    31.0\n",
       "438441              222.0                      42.0                    47.0\n",
       "797409              221.0                      48.0                    40.0\n",
       "1381830             221.0                       6.0                     2.0"
      ]
     },
     "execution_count": 23,
     "metadata": {},
     "output_type": "execute_result"
    }
   ],
   "source": [
    "df_new = df_id[df_id.cluster == 0]\n",
    "df_new = df_new.drop(['cluster', 'cen_x', \"cen_y\", \"c\"], axis=1)\n",
    "df_new.head()"
   ]
  },
  {
   "cell_type": "markdown",
   "metadata": {},
   "source": [
    "* On réalise à nouveau la méthode du coude afin de déterminer le juste nombre de clusters nécessaires :"
   ]
  },
  {
   "cell_type": "code",
   "execution_count": 24,
   "metadata": {},
   "outputs": [],
   "source": [
    "# Liste des nombre de clusters\n",
    "range_n_clusters = [2, 3, 4, 5, 6]  \n",
    "\n",
    "# Initialisation de la liste de dissortions\n",
    "distorsions = []\n",
    "\n",
    "# Calcul des distorsions pour les différents modèles\n",
    "for n_clusters in range_n_clusters:\n",
    "    \n",
    "    # Initialisation d'un cluster ayant un pour nombre de clusters n_clusters\n",
    "    cluster = KMeans(n_clusters = n_clusters)\n",
    "    \n",
    "    # Apprentissage des données suivant le cluster construit ci-dessus\n",
    "    cluster.fit(df_new)\n",
    "    \n",
    "    # Ajout de la nouvelle distorsion à la liste des données\n",
    "    distorsions.append(sum(np.min(cdist(df_new, cluster.cluster_centers_, 'euclidean'), axis=1)) / np.size(df_id, axis = 0))"
   ]
  },
  {
   "cell_type": "markdown",
   "metadata": {},
   "source": [
    "* Puis on visualise les distorsions en fonction du nombre de clusters :"
   ]
  },
  {
   "cell_type": "code",
   "execution_count": 25,
   "metadata": {},
   "outputs": [
    {
     "data": {
      "image/png": "[encoded data removed]",
      "text/plain": [
       "<Figure size 432x288 with 1 Axes>"
      ]
     },
     "metadata": {
      "needs_background": "light"
     },
     "output_type": "display_data"
    }
   ],
   "source": [
    "plt.plot(range_n_clusters, distorsions, 'gx-')\n",
    "plt.xlabel('Nombre de Clusters K')\n",
    "plt.ylabel('Distorsion (WSS/TSS)')\n",
    "plt.title('Méthode du coude affichant le nombre de clusters optimal', bbox={'facecolor':'0.8', 'pad':5})\n",
    "plt.show()"
   ]
  },
  {
   "cell_type": "markdown",
   "metadata": {},
   "source": [
    "* Mise en place de l'algorithme des K-means avec 4 clusters (choisis grâce a la méthode du coude vue précédemment)"
   ]
  },
  {
   "cell_type": "code",
   "execution_count": 26,
   "metadata": {},
   "outputs": [],
   "source": [
    "# k-means\n",
    "kmeans = KMeans(n_clusters=4, random_state=0)\n",
    "df_new[\"cluster\"] = kmeans.fit_predict(df_new[['Nombre de vues', 'Nombre de transactions']])\n",
    "\n",
    "# get centroids\n",
    "centroids = kmeans.cluster_centers_\n",
    "cen_x = [i[0] for i in centroids] \n",
    "cen_y = [i[1] for i in centroids]\n",
    "\n",
    "## add to df\n",
    "df_new['cen_x'] = df_id.cluster.map({0:cen_x[0], 1:cen_x[1], 2:cen_x[2],3:cen_x[3]})\n",
    "df_new['cen_y'] = df_id.cluster.map({0:cen_y[0], 1:cen_y[1], 2:cen_y[2],3:cen_y[3]})\n",
    "\n",
    "# define and map colors\n",
    "colors = ['#bf20df', '#2095DF',\"#AE6042\", '#DF2020']\n",
    "df_new['c'] = df_new.cluster.map({0:colors[0], 1:colors[1], 2:colors[2],3:colors[3]})"
   ]
  },
  {
   "cell_type": "markdown",
   "metadata": {},
   "source": [
    "* Visualisation des nouveaux clusters créés a partir du cluster 0 :"
   ]
  },
  {
   "cell_type": "code",
   "execution_count": 27,
   "metadata": {},
   "outputs": [
    {
     "data": {
      "text/plain": [
       "Text(0, 0.5, 'Nombre de transactions')"
      ]
     },
     "execution_count": 27,
     "metadata": {},
     "output_type": "execute_result"
    },
    {
     "data": {
      "image/png": "[encoded data removed]",
      "text/plain": [
       "<Figure size 720x720 with 1 Axes>"
      ]
     },
     "metadata": {
      "needs_background": "light"
     },
     "output_type": "display_data"
    }
   ],
   "source": [
    "#Visualisation\n",
    "from matplotlib.lines import Line2D\n",
    "fig, ax = plt.subplots(1, figsize=(10,10))\n",
    "\n",
    "# plot des data\n",
    "plt.scatter(df_new['Nombre de vues'], df_new['Nombre de transactions'], c= df_new.c, alpha = 0.6, s=10)\n",
    "\n",
    "# Legende\n",
    "legend_elements = [Line2D([0], [0], marker='o', color='w', label='Cluster {}'.format(i+1), \n",
    "               markerfacecolor=mcolor, markersize=5) for i, mcolor in enumerate(colors)]\n",
    "\n",
    "# plot de la legende\n",
    "plt.legend(handles=legend_elements, loc='upper left')\n",
    "\n",
    "# titre et labels\n",
    "plt.title(\"Visualisation des utilisateurs\", bbox={'facecolor':'0.8', 'pad':5})\n",
    "plt.xlabel('Nombre de vues')\n",
    "plt.ylabel('Nombre de transactions')"
   ]
  },
  {
   "cell_type": "code",
   "execution_count": 28,
   "metadata": {},
   "outputs": [
    {
     "data": {
      "text/plain": [
       "0    1331406\n",
       "2      69715\n",
       "3       5843\n",
       "1        464\n",
       "Name: cluster, dtype: int64"
      ]
     },
     "execution_count": 28,
     "metadata": {},
     "output_type": "execute_result"
    }
   ],
   "source": [
    "df_new.cluster.value_counts()"
   ]
  },
  {
   "cell_type": "markdown",
   "metadata": {},
   "source": [
    "_On observe une distribution beaucoup plus homogène entre les clusters.\n",
    "Cette distribution va nous permetre d'établir une segmentation plus précise, et d'augmenter la précision de notre algorithme de machine learning._"
   ]
  },
  {
   "cell_type": "markdown",
   "metadata": {},
   "source": [
    "**Par ces constats, visualisations et travaux de clustering réalisés, on souhaite prédire ce qu'un visiteur sera susceptible d'acheter, selon son ou ses précédents achats, afin de lui proposer des articles en lien avec ses intérêts et maximiser le taux de transformation : moteur de recommandation.**"
   ]
  },
  {
   "cell_type": "markdown",
   "metadata": {},
   "source": [
    "**Cédric, AJOUT 20/04**\n",
    "\n",
    "• Dans une nouvelle variable cluster_0_classe, découpe des transactions de df_new en 4 classes distinctes avec pour labels 0, 1, 2, 3 selon les 3 quantiles de la nouvelle variable crée."
   ]
  },
  {
   "cell_type": "code",
   "execution_count": 29,
   "metadata": {},
   "outputs": [],
   "source": [
    "# Firstly let's create an array that lists visitors who made a purchase\n",
    "customer_purchased = df_events[df_events.transactionid.notnull()].visitorid.unique()\n",
    "    \n",
    "purchased_items = []\n",
    "buyer = []\n",
    "    \n",
    "# Create another list that contains all their purchases \n",
    "for customer in customer_purchased:\n",
    "\n",
    "    #Generate a Pandas series type object containing all the visitor's purchases and put them in the list\n",
    "    buyer.append(customer)\n",
    "    purchased_items.append(list(df_events.loc[(df_events.visitorid == customer) & (df_events.transactionid.notnull())].itemid.values))"
   ]
  },
  {
   "cell_type": "code",
   "execution_count": 30,
   "metadata": {},
   "outputs": [
    {
     "data": {
      "text/html": [
       "<div>\n",
       "<style scoped>\n",
       "    .dataframe tbody tr th:only-of-type {\n",
       "        vertical-align: middle;\n",
       "    }\n",
       "\n",
       "    .dataframe tbody tr th {\n",
       "        vertical-align: top;\n",
       "    }\n",
       "\n",
       "    .dataframe thead th {\n",
       "        text-align: right;\n",
       "    }\n",
       "</style>\n",
       "<table border=\"1\" class=\"dataframe\">\n",
       "  <thead>\n",
       "    <tr style=\"text-align: right;\">\n",
       "      <th></th>\n",
       "      <th>Purchased_items</th>\n",
       "    </tr>\n",
       "  </thead>\n",
       "  <tbody>\n",
       "    <tr>\n",
       "      <th>0</th>\n",
       "      <td>[356475]</td>\n",
       "    </tr>\n",
       "    <tr>\n",
       "      <th>1</th>\n",
       "      <td>[15335, 380775, 237753, 317178, 12836, 400969,...</td>\n",
       "    </tr>\n",
       "    <tr>\n",
       "      <th>2</th>\n",
       "      <td>[81345]</td>\n",
       "    </tr>\n",
       "    <tr>\n",
       "      <th>3</th>\n",
       "      <td>[150318, 49521]</td>\n",
       "    </tr>\n",
       "    <tr>\n",
       "      <th>4</th>\n",
       "      <td>[310791, 299044]</td>\n",
       "    </tr>\n",
       "  </tbody>\n",
       "</table>\n",
       "</div>"
      ],
      "text/plain": [
       "                                     Purchased_items\n",
       "0                                           [356475]\n",
       "1  [15335, 380775, 237753, 317178, 12836, 400969,...\n",
       "2                                            [81345]\n",
       "3                                    [150318, 49521]\n",
       "4                                   [310791, 299044]"
      ]
     },
     "execution_count": 30,
     "metadata": {},
     "output_type": "execute_result"
    }
   ],
   "source": [
    "purchased_items_df = pd.DataFrame({\"Purchased_items\":purchased_items})\n",
    "purchased_items_df.head()\n"
   ]
  },
  {
   "cell_type": "code",
   "execution_count": 31,
   "metadata": {},
   "outputs": [
    {
     "name": "stdout",
     "output_type": "stream",
     "text": [
      "<class 'pandas.core.frame.DataFrame'>\n",
      "RangeIndex: 11719 entries, 0 to 11718\n",
      "Data columns (total 2 columns):\n",
      " #   Column           Non-Null Count  Dtype \n",
      "---  ------           --------------  ----- \n",
      " 0   Buyer            11719 non-null  int64 \n",
      " 1   Purchased_items  11719 non-null  object\n",
      "dtypes: int64(1), object(1)\n",
      "memory usage: 183.2+ KB\n"
     ]
    }
   ],
   "source": [
    "data = pd.DataFrame({\"Buyer\":buyer, \"Purchased_items\":purchased_items})\n",
    "data.head()\n",
    "data.info()"
   ]
  },
  {
   "cell_type": "code",
   "execution_count": null,
   "metadata": {},
   "outputs": [],
   "source": []
  },
  {
   "cell_type": "markdown",
   "metadata": {},
   "source": [
    "Quelles ont nos variables explicatives ? TEST DA121\n",
    "\n",
    "• Stockez dans une variable data, les données explicatives uniquement.\n",
    "\n",
    "• Séparez les données en un ensemble d'apprentissage et un ensemble de test (20%), avec data comme données explicatives et charges_classes comme variable cible.\n",
    "\n",
    "• Centrer et réduire les variables explicatives des deux échantillons de manière adéquate.\n",
    "\n",
    "\n",
    "\n",
    "Dans la suite nous allons comparer plusieurs méthodes d'apprentissage. Pour chacune d'elles, il conviendra d'explorer le périmètre des hyperparamètres suivant :\n",
    "\n",
    "K-plus proches voisins. Hyperparamètre à régler :\n",
    "\n",
    "'n_neighbors' : 2 à 50.\n",
    "SVM. Hyperparamètres à régler :\n",
    "\n",
    "kernel : 'rbf', 'linear'.\n",
    "C : 0.1 ; 1 ; 10 ; 50 .\n",
    "RandomForest. Hyperparamètres à régler :\n",
    "\n",
    "'max_features': \"sqrt\", \"log2\", None\n",
    "'min_samples_split': Nombres pairs allant de 2 à 30.\n",
    "Pour chaque algorithme mentionné ci-dessus:\n",
    "\n",
    "Sélectionnez les hyperparamètres sur l'échantillon d’apprentissage par validation croisée\n",
    "Affichez les hyperparamètres retenus\n",
    "Appliquez le modèle à l'ensemble de test, affichez la matrice de confusion et le score du modèle sur ce dernier\n",
    "\n",
    "Quel modèle fournit la meilleure précision ?"
   ]
  }
 ],
 "metadata": {
  "kernelspec": {
   "display_name": "Python 3",
   "language": "python",
   "name": "python3"
  },
  "language_info": {
   "codemirror_mode": {
    "name": "ipython",
    "version": 3
   },
   "file_extension": ".py",
   "mimetype": "text/x-python",
   "name": "python",
   "nbconvert_exporter": "python",
   "pygments_lexer": "ipython3",
   "version": "3.8.5"
  }
 },
 "nbformat": 4,
 "nbformat_minor": 4
}
