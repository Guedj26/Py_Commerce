{
 "cells": [
  {
   "cell_type": "code",
   "execution_count": 1,
   "metadata": {},
   "outputs": [],
   "source": [
    "import pandas as pd\n",
    "import numpy as np\n",
    "import matplotlib.pyplot as plt\n",
    "import seaborn as sns\n",
    "from sklearn.decomposition import PCA\n",
    "from sklearn.preprocessing import StandardScaler"
   ]
  },
  {
   "cell_type": "markdown",
   "metadata": {},
   "source": [
    "* Import du premier fichier item properties - REMPLACER PAR BON CHEMIN \n"
   ]
  },
  {
   "cell_type": "code",
   "execution_count": 2,
   "metadata": {},
   "outputs": [
    {
     "data": {
      "text/html": [
       "<div>\n",
       "<style scoped>\n",
       "    .dataframe tbody tr th:only-of-type {\n",
       "        vertical-align: middle;\n",
       "    }\n",
       "\n",
       "    .dataframe tbody tr th {\n",
       "        vertical-align: top;\n",
       "    }\n",
       "\n",
       "    .dataframe thead th {\n",
       "        text-align: right;\n",
       "    }\n",
       "</style>\n",
       "<table border=\"1\" class=\"dataframe\">\n",
       "  <thead>\n",
       "    <tr style=\"text-align: right;\">\n",
       "      <th></th>\n",
       "      <th>timestamp</th>\n",
       "      <th>itemid</th>\n",
       "      <th>property</th>\n",
       "      <th>value</th>\n",
       "    </tr>\n",
       "  </thead>\n",
       "  <tbody>\n",
       "    <tr>\n",
       "      <th>0</th>\n",
       "      <td>1435460400000</td>\n",
       "      <td>460429</td>\n",
       "      <td>categoryid</td>\n",
       "      <td>1338</td>\n",
       "    </tr>\n",
       "    <tr>\n",
       "      <th>1</th>\n",
       "      <td>1441508400000</td>\n",
       "      <td>206783</td>\n",
       "      <td>888</td>\n",
       "      <td>1116713 960601 n277.200</td>\n",
       "    </tr>\n",
       "    <tr>\n",
       "      <th>2</th>\n",
       "      <td>1439089200000</td>\n",
       "      <td>395014</td>\n",
       "      <td>400</td>\n",
       "      <td>n552.000 639502 n720.000 424566</td>\n",
       "    </tr>\n",
       "    <tr>\n",
       "      <th>3</th>\n",
       "      <td>1431226800000</td>\n",
       "      <td>59481</td>\n",
       "      <td>790</td>\n",
       "      <td>n15360.000</td>\n",
       "    </tr>\n",
       "    <tr>\n",
       "      <th>4</th>\n",
       "      <td>1431831600000</td>\n",
       "      <td>156781</td>\n",
       "      <td>917</td>\n",
       "      <td>828513</td>\n",
       "    </tr>\n",
       "  </tbody>\n",
       "</table>\n",
       "</div>"
      ],
      "text/plain": [
       "       timestamp  itemid    property                            value\n",
       "0  1435460400000  460429  categoryid                             1338\n",
       "1  1441508400000  206783         888          1116713 960601 n277.200\n",
       "2  1439089200000  395014         400  n552.000 639502 n720.000 424566\n",
       "3  1431226800000   59481         790                       n15360.000\n",
       "4  1431831600000  156781         917                           828513"
      ]
     },
     "execution_count": 2,
     "metadata": {},
     "output_type": "execute_result"
    }
   ],
   "source": [
    "df_properties1 = pd.read_csv(\"/Volumes/HD 2/DataScientest/PROJET/Jeu de données/donnees_brutes/item_properties_part1.csv\")\n",
    "df_properties1.head()"
   ]
  },
  {
   "cell_type": "markdown",
   "metadata": {},
   "source": [
    "* Import du second fichier item properties - REMPLACER PAR BON CHEMIN "
   ]
  },
  {
   "cell_type": "code",
   "execution_count": 3,
   "metadata": {},
   "outputs": [
    {
     "data": {
      "text/html": [
       "<div>\n",
       "<style scoped>\n",
       "    .dataframe tbody tr th:only-of-type {\n",
       "        vertical-align: middle;\n",
       "    }\n",
       "\n",
       "    .dataframe tbody tr th {\n",
       "        vertical-align: top;\n",
       "    }\n",
       "\n",
       "    .dataframe thead th {\n",
       "        text-align: right;\n",
       "    }\n",
       "</style>\n",
       "<table border=\"1\" class=\"dataframe\">\n",
       "  <thead>\n",
       "    <tr style=\"text-align: right;\">\n",
       "      <th></th>\n",
       "      <th>timestamp</th>\n",
       "      <th>itemid</th>\n",
       "      <th>property</th>\n",
       "      <th>value</th>\n",
       "    </tr>\n",
       "  </thead>\n",
       "  <tbody>\n",
       "    <tr>\n",
       "      <th>0</th>\n",
       "      <td>1433041200000</td>\n",
       "      <td>183478</td>\n",
       "      <td>561</td>\n",
       "      <td>769062</td>\n",
       "    </tr>\n",
       "    <tr>\n",
       "      <th>1</th>\n",
       "      <td>1439694000000</td>\n",
       "      <td>132256</td>\n",
       "      <td>976</td>\n",
       "      <td>n26.400 1135780</td>\n",
       "    </tr>\n",
       "    <tr>\n",
       "      <th>2</th>\n",
       "      <td>1435460400000</td>\n",
       "      <td>420307</td>\n",
       "      <td>921</td>\n",
       "      <td>1149317 1257525</td>\n",
       "    </tr>\n",
       "    <tr>\n",
       "      <th>3</th>\n",
       "      <td>1431831600000</td>\n",
       "      <td>403324</td>\n",
       "      <td>917</td>\n",
       "      <td>1204143</td>\n",
       "    </tr>\n",
       "    <tr>\n",
       "      <th>4</th>\n",
       "      <td>1435460400000</td>\n",
       "      <td>230701</td>\n",
       "      <td>521</td>\n",
       "      <td>769062</td>\n",
       "    </tr>\n",
       "  </tbody>\n",
       "</table>\n",
       "</div>"
      ],
      "text/plain": [
       "       timestamp  itemid property            value\n",
       "0  1433041200000  183478      561           769062\n",
       "1  1439694000000  132256      976  n26.400 1135780\n",
       "2  1435460400000  420307      921  1149317 1257525\n",
       "3  1431831600000  403324      917          1204143\n",
       "4  1435460400000  230701      521           769062"
      ]
     },
     "execution_count": 3,
     "metadata": {},
     "output_type": "execute_result"
    }
   ],
   "source": [
    "df_properties2 = pd.read_csv(\"/Volumes/HD 2/DataScientest/PROJET/Jeu de données/donnees_brutes/item_properties_part2.csv\")\n",
    "df_properties2.head()"
   ]
  },
  {
   "cell_type": "markdown",
   "metadata": {},
   "source": [
    "* Concaténation des 2 fichiers item properties dans df_properties car fichiers séparés cause nombre de lignes trop important"
   ]
  },
  {
   "cell_type": "code",
   "execution_count": 4,
   "metadata": {},
   "outputs": [
    {
     "data": {
      "text/html": [
       "<div>\n",
       "<style scoped>\n",
       "    .dataframe tbody tr th:only-of-type {\n",
       "        vertical-align: middle;\n",
       "    }\n",
       "\n",
       "    .dataframe tbody tr th {\n",
       "        vertical-align: top;\n",
       "    }\n",
       "\n",
       "    .dataframe thead th {\n",
       "        text-align: right;\n",
       "    }\n",
       "</style>\n",
       "<table border=\"1\" class=\"dataframe\">\n",
       "  <thead>\n",
       "    <tr style=\"text-align: right;\">\n",
       "      <th></th>\n",
       "      <th>timestamp</th>\n",
       "      <th>itemid</th>\n",
       "      <th>property</th>\n",
       "      <th>value</th>\n",
       "    </tr>\n",
       "  </thead>\n",
       "  <tbody>\n",
       "    <tr>\n",
       "      <th>0</th>\n",
       "      <td>1435460400000</td>\n",
       "      <td>460429</td>\n",
       "      <td>categoryid</td>\n",
       "      <td>1338</td>\n",
       "    </tr>\n",
       "    <tr>\n",
       "      <th>1</th>\n",
       "      <td>1441508400000</td>\n",
       "      <td>206783</td>\n",
       "      <td>888</td>\n",
       "      <td>1116713 960601 n277.200</td>\n",
       "    </tr>\n",
       "    <tr>\n",
       "      <th>2</th>\n",
       "      <td>1439089200000</td>\n",
       "      <td>395014</td>\n",
       "      <td>400</td>\n",
       "      <td>n552.000 639502 n720.000 424566</td>\n",
       "    </tr>\n",
       "    <tr>\n",
       "      <th>3</th>\n",
       "      <td>1431226800000</td>\n",
       "      <td>59481</td>\n",
       "      <td>790</td>\n",
       "      <td>n15360.000</td>\n",
       "    </tr>\n",
       "    <tr>\n",
       "      <th>4</th>\n",
       "      <td>1431831600000</td>\n",
       "      <td>156781</td>\n",
       "      <td>917</td>\n",
       "      <td>828513</td>\n",
       "    </tr>\n",
       "  </tbody>\n",
       "</table>\n",
       "</div>"
      ],
      "text/plain": [
       "       timestamp  itemid    property                            value\n",
       "0  1435460400000  460429  categoryid                             1338\n",
       "1  1441508400000  206783         888          1116713 960601 n277.200\n",
       "2  1439089200000  395014         400  n552.000 639502 n720.000 424566\n",
       "3  1431226800000   59481         790                       n15360.000\n",
       "4  1431831600000  156781         917                           828513"
      ]
     },
     "execution_count": 4,
     "metadata": {},
     "output_type": "execute_result"
    }
   ],
   "source": [
    "df_properties = pd.concat([df_properties1, df_properties2])\n",
    "df_properties.head()"
   ]
  },
  {
   "cell_type": "markdown",
   "metadata": {},
   "source": [
    "* Affichage des infos de df_properties et recherche de valeurs nulles"
   ]
  },
  {
   "cell_type": "code",
   "execution_count": 5,
   "metadata": {},
   "outputs": [
    {
     "name": "stdout",
     "output_type": "stream",
     "text": [
      "<class 'pandas.core.frame.DataFrame'>\n",
      "Int64Index: 20275902 entries, 0 to 9275902\n",
      "Data columns (total 4 columns):\n",
      " #   Column     Dtype \n",
      "---  ------     ----- \n",
      " 0   timestamp  int64 \n",
      " 1   itemid     int64 \n",
      " 2   property   object\n",
      " 3   value      object\n",
      "dtypes: int64(2), object(2)\n",
      "memory usage: 773.5+ MB\n"
     ]
    },
    {
     "data": {
      "text/plain": [
       "timestamp    0\n",
       "itemid       0\n",
       "property     0\n",
       "value        0\n",
       "dtype: int64"
      ]
     },
     "execution_count": 5,
     "metadata": {},
     "output_type": "execute_result"
    }
   ],
   "source": [
    "df_properties.info()\n",
    "df_properties.isna().sum()"
   ]
  },
  {
   "cell_type": "markdown",
   "metadata": {},
   "source": [
    "_Nous donne 20275902 lignes et aucune valeur nulle_"
   ]
  },
  {
   "cell_type": "markdown",
   "metadata": {},
   "source": [
    "* Nombre valeurs uniques dans df_properties"
   ]
  },
  {
   "cell_type": "code",
   "execution_count": 6,
   "metadata": {},
   "outputs": [
    {
     "data": {
      "text/plain": [
       "timestamp         18\n",
       "itemid        417053\n",
       "property        1104\n",
       "value        1966868\n",
       "dtype: int64"
      ]
     },
     "execution_count": 6,
     "metadata": {},
     "output_type": "execute_result"
    }
   ],
   "source": [
    "df_properties.nunique(axis=0)"
   ]
  },
  {
   "cell_type": "markdown",
   "metadata": {},
   "source": [
    "* Équilibre des valeurs sur df_properties timestamp (calcul pour compléter le fichier rapport d'exploration)"
   ]
  },
  {
   "cell_type": "code",
   "execution_count": 7,
   "metadata": {},
   "outputs": [
    {
     "name": "stdout",
     "output_type": "stream",
     "text": [
      "20275902\n",
      "[1435460400000 1441508400000 1439089200000 1431226800000 1431831600000\n",
      " 1436065200000 1434250800000 1433646000000 1439694000000 1437274800000\n",
      " 1436670000000 1432436400000 1438484400000 1442113200000 1433041200000\n",
      " 1440903600000 1440298800000 1437879600000]\n",
      "1431226800000    3012756\n",
      "1433041200000    2620101\n",
      "1435460400000    2368972\n",
      "1432436400000    1815598\n",
      "1433646000000    1686681\n",
      "1439694000000    1488244\n",
      "1431831600000    1027889\n",
      "1434250800000     755965\n",
      "1436670000000     593657\n",
      "1442113200000     583018\n",
      "1440298800000     571339\n",
      "1441508400000     566183\n",
      "1437274800000     563575\n",
      "1439089200000     542778\n",
      "1440903600000     532586\n",
      "1438484400000     529315\n",
      "1437879600000     519460\n",
      "1436065200000     497785\n",
      "Name: timestamp, dtype: int64\n"
     ]
    }
   ],
   "source": [
    "print(df_properties['timestamp'].count())\n",
    "print(df_properties['timestamp'].unique())\n",
    "print(df_properties['timestamp'].value_counts())"
   ]
  },
  {
   "cell_type": "markdown",
   "metadata": {},
   "source": [
    "* Équilibre des valeurs sur df_properties itemid (calcul pour compléter le fichier rapport d'exploration)"
   ]
  },
  {
   "cell_type": "code",
   "execution_count": 8,
   "metadata": {},
   "outputs": [
    {
     "name": "stdout",
     "output_type": "stream",
     "text": [
      "20275902\n",
      "[460429 206783 395014 ... 449778 352709 170360]\n",
      "158903    468\n",
      "254069    462\n",
      "91855     461\n",
      "150800    459\n",
      "339536    444\n",
      "         ... \n",
      "97687      15\n",
      "342400     14\n",
      "73456      13\n",
      "207227     12\n",
      "243157     12\n",
      "Name: itemid, Length: 417053, dtype: int64\n"
     ]
    }
   ],
   "source": [
    "print(df_properties['itemid'].count())\n",
    "print(df_properties['itemid'].unique())\n",
    "print(df_properties['itemid'].value_counts())"
   ]
  },
  {
   "cell_type": "markdown",
   "metadata": {},
   "source": [
    "* Équilibre des valeurs sur df_properties property (calcul pour compléter le fichier rapport d'exploration)"
   ]
  },
  {
   "cell_type": "code",
   "execution_count": 9,
   "metadata": {},
   "outputs": [
    {
     "name": "stdout",
     "output_type": "stream",
     "text": [
      "20275902\n",
      "['categoryid' '888' '400' ... '1091' '522' '769']\n",
      "888           3000398\n",
      "790           1790516\n",
      "available     1503639\n",
      "categoryid     788214\n",
      "6              631471\n",
      "               ...   \n",
      "472                 1\n",
      "744                 1\n",
      "769                 1\n",
      "1046                1\n",
      "530                 1\n",
      "Name: property, Length: 1104, dtype: int64\n"
     ]
    }
   ],
   "source": [
    "print(df_properties['property'].count())\n",
    "print(df_properties['property'].unique())\n",
    "print(df_properties['property'].value_counts())"
   ]
  },
  {
   "cell_type": "markdown",
   "metadata": {},
   "source": [
    "* Équilibre des valeurs sur df_properties value (calcul pour compléter le fichier rapport d'exploration)"
   ]
  },
  {
   "cell_type": "code",
   "execution_count": 10,
   "metadata": {},
   "outputs": [
    {
     "name": "stdout",
     "output_type": "stream",
     "text": [
      "20275902\n",
      "['1338' '1116713 960601 n277.200' 'n552.000 639502 n720.000 424566' ...\n",
      " '1165718' '598729 511183 981281 829153 631983' 'n1020780.000']\n",
      "769062                                                                                                                                                                                                                                     1537247\n",
      "0                                                                                                                                                                                                                                           863246\n",
      "1                                                                                                                                                                                                                                           641420\n",
      "679677                                                                                                                                                                                                                                      417054\n",
      "519769                                                                                                                                                                                                                                      417053\n",
      "                                                                                                                                                                                                                                            ...   \n",
      "150581                                                                                                                                                                                                                                           1\n",
      "1025369                                                                                                                                                                                                                                          1\n",
      "n60664783676352.000                                                                                                                                                                                                                              1\n",
      "452320 853231 966692 508587 n110952.000 1294916 748040                                                                                                                                                                                           1\n",
      "823435 945042 140639 1143782 751595 1154556 639502 534169 405769 945042 140639 473196 267261 653611 132466 235226 703408 142908 237874 72358 621351 21488 740861 880027 1053334 30603 491927 718248 945042 729162 237874 397550 1097825          1\n",
      "Name: value, Length: 1966868, dtype: int64\n"
     ]
    }
   ],
   "source": [
    "print(df_properties['value'].count())\n",
    "print(df_properties['value'].unique())\n",
    "print(df_properties['value'].value_counts())"
   ]
  },
  {
   "cell_type": "markdown",
   "metadata": {},
   "source": [
    "* Import du  fichier des catégories - REMPLACER PAR BON CHEMIN"
   ]
  },
  {
   "cell_type": "code",
   "execution_count": 11,
   "metadata": {
    "scrolled": true
   },
   "outputs": [
    {
     "data": {
      "text/html": [
       "<div>\n",
       "<style scoped>\n",
       "    .dataframe tbody tr th:only-of-type {\n",
       "        vertical-align: middle;\n",
       "    }\n",
       "\n",
       "    .dataframe tbody tr th {\n",
       "        vertical-align: top;\n",
       "    }\n",
       "\n",
       "    .dataframe thead th {\n",
       "        text-align: right;\n",
       "    }\n",
       "</style>\n",
       "<table border=\"1\" class=\"dataframe\">\n",
       "  <thead>\n",
       "    <tr style=\"text-align: right;\">\n",
       "      <th></th>\n",
       "      <th>categoryid</th>\n",
       "      <th>parentid</th>\n",
       "    </tr>\n",
       "  </thead>\n",
       "  <tbody>\n",
       "    <tr>\n",
       "      <th>0</th>\n",
       "      <td>1016</td>\n",
       "      <td>213.0</td>\n",
       "    </tr>\n",
       "    <tr>\n",
       "      <th>1</th>\n",
       "      <td>809</td>\n",
       "      <td>169.0</td>\n",
       "    </tr>\n",
       "    <tr>\n",
       "      <th>2</th>\n",
       "      <td>570</td>\n",
       "      <td>9.0</td>\n",
       "    </tr>\n",
       "    <tr>\n",
       "      <th>3</th>\n",
       "      <td>1691</td>\n",
       "      <td>885.0</td>\n",
       "    </tr>\n",
       "    <tr>\n",
       "      <th>4</th>\n",
       "      <td>536</td>\n",
       "      <td>1691.0</td>\n",
       "    </tr>\n",
       "  </tbody>\n",
       "</table>\n",
       "</div>"
      ],
      "text/plain": [
       "   categoryid  parentid\n",
       "0        1016     213.0\n",
       "1         809     169.0\n",
       "2         570       9.0\n",
       "3        1691     885.0\n",
       "4         536    1691.0"
      ]
     },
     "execution_count": 11,
     "metadata": {},
     "output_type": "execute_result"
    }
   ],
   "source": [
    "cat_tree = pd.read_csv(\"/Volumes/HD 2/DataScientest/PROJET/Jeu de données/donnees_brutes/category_tree.csv\")\n",
    "cat_tree.head()"
   ]
  },
  {
   "cell_type": "markdown",
   "metadata": {},
   "source": [
    "* Infos de cat_tree et recherche de valeurs nulles"
   ]
  },
  {
   "cell_type": "code",
   "execution_count": 12,
   "metadata": {},
   "outputs": [
    {
     "name": "stdout",
     "output_type": "stream",
     "text": [
      "<class 'pandas.core.frame.DataFrame'>\n",
      "RangeIndex: 1669 entries, 0 to 1668\n",
      "Data columns (total 2 columns):\n",
      " #   Column      Non-Null Count  Dtype  \n",
      "---  ------      --------------  -----  \n",
      " 0   categoryid  1669 non-null   int64  \n",
      " 1   parentid    1644 non-null   float64\n",
      "dtypes: float64(1), int64(1)\n",
      "memory usage: 26.2 KB\n"
     ]
    },
    {
     "data": {
      "text/plain": [
       "categoryid     0\n",
       "parentid      25\n",
       "dtype: int64"
      ]
     },
     "execution_count": 12,
     "metadata": {},
     "output_type": "execute_result"
    }
   ],
   "source": [
    "cat_tree.info()\n",
    "cat_tree.isna().sum()"
   ]
  },
  {
   "cell_type": "markdown",
   "metadata": {},
   "source": [
    "_Nous donne 1669 rows ainsi que 25 valeurs nulles dans la colonne parentid_"
   ]
  },
  {
   "cell_type": "markdown",
   "metadata": {},
   "source": [
    "* Pourcentage de valeurs nulles trouvées dans cat_tree :"
   ]
  },
  {
   "cell_type": "code",
   "execution_count": 13,
   "metadata": {},
   "outputs": [
    {
     "name": "stdout",
     "output_type": "stream",
     "text": [
      "parentid a 1.4979029358897544 % de na\n"
     ]
    }
   ],
   "source": [
    "na_parentid = (cat_tree.parentid.isna().sum() / cat_tree.shape[0]) * 100\n",
    "print(\"parentid a\", na_parentid, \"% de na\")"
   ]
  },
  {
   "cell_type": "markdown",
   "metadata": {},
   "source": [
    "* Nombre valeurs uniques dans cat_tree :"
   ]
  },
  {
   "cell_type": "code",
   "execution_count": 14,
   "metadata": {
    "scrolled": true
   },
   "outputs": [
    {
     "data": {
      "text/plain": [
       "categoryid    1669\n",
       "parentid       362\n",
       "dtype: int64"
      ]
     },
     "execution_count": 14,
     "metadata": {},
     "output_type": "execute_result"
    }
   ],
   "source": [
    "cat_tree.nunique(axis=0)"
   ]
  },
  {
   "cell_type": "markdown",
   "metadata": {},
   "source": [
    "* Équilibre des valeurs sur cat_tree categoryid (calcul pour compléter le fichier rapport d'exploration)"
   ]
  },
  {
   "cell_type": "code",
   "execution_count": 15,
   "metadata": {},
   "outputs": [
    {
     "name": "stdout",
     "output_type": "stream",
     "text": [
      "1669\n",
      "[1016  809  570 ... 1336  689  761]\n",
      "1697    1\n",
      "1274    1\n",
      "1120    1\n",
      "1122    1\n",
      "1124    1\n",
      "       ..\n",
      "577     1\n",
      "579     1\n",
      "581     1\n",
      "583     1\n",
      "0       1\n",
      "Name: categoryid, Length: 1669, dtype: int64\n"
     ]
    }
   ],
   "source": [
    "print(cat_tree['categoryid'].count())\n",
    "print(cat_tree['categoryid'].unique())\n",
    "print(cat_tree['categoryid'].value_counts())"
   ]
  },
  {
   "cell_type": "markdown",
   "metadata": {},
   "source": [
    "* Équilibre des valeurs sur cat_tree parentid (calcul pour compléter le fichier rapport d'exploration)"
   ]
  },
  {
   "cell_type": "code",
   "execution_count": 16,
   "metadata": {},
   "outputs": [
    {
     "name": "stdout",
     "output_type": "stream",
     "text": [
      "1644\n",
      "[ 213.  169.    9.  885. 1691.   nan  378.  542. 1537. 1621.  893.  312.\n",
      "  622. 1281. 1110. 1604.  945.  768.  229. 1181.  711.   73.  393.  250.\n",
      " 1420. 1101. 1424. 1215.  313.  583.   71.  590. 1550.  763.  488.  232.\n",
      " 1591.  383.  949.    8.  880.  322.  666. 1291.  865.  186.  336.   92.\n",
      "  585.  399.  178. 1682.  777.  520.  781. 1453.  571.  252.  866. 1669.\n",
      "  630. 1370.  609. 1618.  351. 1486.  854. 1229. 1009. 1259. 1490. 1444.\n",
      "  593.  732. 1394.  418. 1687. 1658.  216. 1251.  727.  810.  894.  480.\n",
      " 1299. 1416.  561.  395. 1615.  654.  506.  900. 1278.  140.  653. 1330.\n",
      " 1562. 1637. 1095.  384.  805. 1458. 1308. 1519. 1329.  149. 1239. 1667.\n",
      " 1383.  540. 1515.  825.  121. 1534. 1371.  409.  131.  369. 1499.  886.\n",
      "  920.  827.  346. 1136.   61.  897. 1058. 1430.  164.  314. 1202. 1532.\n",
      "  293.  938.  986.  206.  766.  107. 1492. 1174.  937.  594.  207. 1497.\n",
      "  658.  188. 1323. 1200. 1396. 1031. 1156.  947. 1012. 1306.  500.  226.\n",
      " 1066.  538.  679. 1139.  724. 1008.  901. 1596. 1027. 1145.  127.  859.\n",
      " 1579.  359.  989. 1559.  696. 1211.  194. 1175. 1518. 1651. 1632.  568.\n",
      "  663. 1630. 1075. 1487. 1684.  852. 1606.  479.  580.  125.  872.  138.\n",
      "  950.  426. 1141.   55. 1600. 1313. 1041. 1107.  187.  287.  640.  896.\n",
      "  835.  573. 1331.   14.  803. 1326.  955.  334. 1168.  736.  995.  657.\n",
      " 1257.  101.  620. 1482.  605. 1249. 1426. 1531. 1398.  143.  402.  879.\n",
      "  623.  795.  275.  791.  587. 1423.  602. 1495.  362.  431.  145.  381.\n",
      " 1335.   48.  339. 1120.  245.  755.   95.  745.  323.  557.  203.  968.\n",
      "  709. 1696.  441.  713.  183. 1386. 1368.  335.  908.  104. 1290.   20.\n",
      "   25.  432.  113.  990. 1065. 1516. 1481. 1525.  788.  485.  209. 1272.\n",
      " 1028. 1292.  157.  959.  116.  265.  714. 1401.  648. 1214. 1125. 1266.\n",
      "  994. 1439.  214.  746. 1036. 1056. 1469.  933.  139.   38. 1224. 1673.\n",
      "  871.  170. 1443.  114.   54. 1546. 1566.  105.  132. 1698. 1160.  110.\n",
      "  440. 1374. 1067.  647.  905.  400.   44.  489. 1678.  305. 1034.  750.\n",
      "  659. 1057.  673.   19. 1582.   33.  513. 1502.  747. 1079.  586.  340.\n",
      "  798. 1081.  799. 1505.  903. 1452. 1182. 1288.  675. 1692. 1198. 1315.\n",
      " 1157.  664. 1671.  385. 1092.  778.  785. 1327.  813. 1228. 1661.  731.\n",
      "  341.   47. 1654.]\n",
      "250.0     31\n",
      "1009.0    22\n",
      "362.0     22\n",
      "351.0     19\n",
      "1259.0    18\n",
      "          ..\n",
      "813.0      1\n",
      "47.0       1\n",
      "1198.0     1\n",
      "19.0       1\n",
      "673.0      1\n",
      "Name: parentid, Length: 362, dtype: int64\n"
     ]
    }
   ],
   "source": [
    "print(cat_tree['parentid'].count())\n",
    "print(cat_tree['parentid'].unique())\n",
    "print(cat_tree['parentid'].value_counts())"
   ]
  },
  {
   "cell_type": "markdown",
   "metadata": {},
   "source": [
    "* Import du fichier des événements, jeu de données comportementales - REMPLACER PAR BON CHEMIN\n",
    "\n"
   ]
  },
  {
   "cell_type": "code",
   "execution_count": 17,
   "metadata": {},
   "outputs": [
    {
     "data": {
      "text/html": [
       "<div>\n",
       "<style scoped>\n",
       "    .dataframe tbody tr th:only-of-type {\n",
       "        vertical-align: middle;\n",
       "    }\n",
       "\n",
       "    .dataframe tbody tr th {\n",
       "        vertical-align: top;\n",
       "    }\n",
       "\n",
       "    .dataframe thead th {\n",
       "        text-align: right;\n",
       "    }\n",
       "</style>\n",
       "<table border=\"1\" class=\"dataframe\">\n",
       "  <thead>\n",
       "    <tr style=\"text-align: right;\">\n",
       "      <th></th>\n",
       "      <th>timestamp</th>\n",
       "      <th>visitorid</th>\n",
       "      <th>event</th>\n",
       "      <th>itemid</th>\n",
       "      <th>transactionid</th>\n",
       "    </tr>\n",
       "  </thead>\n",
       "  <tbody>\n",
       "    <tr>\n",
       "      <th>0</th>\n",
       "      <td>1433221332117</td>\n",
       "      <td>257597</td>\n",
       "      <td>view</td>\n",
       "      <td>355908</td>\n",
       "      <td>NaN</td>\n",
       "    </tr>\n",
       "    <tr>\n",
       "      <th>1</th>\n",
       "      <td>1433224214164</td>\n",
       "      <td>992329</td>\n",
       "      <td>view</td>\n",
       "      <td>248676</td>\n",
       "      <td>NaN</td>\n",
       "    </tr>\n",
       "    <tr>\n",
       "      <th>2</th>\n",
       "      <td>1433221999827</td>\n",
       "      <td>111016</td>\n",
       "      <td>view</td>\n",
       "      <td>318965</td>\n",
       "      <td>NaN</td>\n",
       "    </tr>\n",
       "    <tr>\n",
       "      <th>3</th>\n",
       "      <td>1433221955914</td>\n",
       "      <td>483717</td>\n",
       "      <td>view</td>\n",
       "      <td>253185</td>\n",
       "      <td>NaN</td>\n",
       "    </tr>\n",
       "    <tr>\n",
       "      <th>4</th>\n",
       "      <td>1433221337106</td>\n",
       "      <td>951259</td>\n",
       "      <td>view</td>\n",
       "      <td>367447</td>\n",
       "      <td>NaN</td>\n",
       "    </tr>\n",
       "  </tbody>\n",
       "</table>\n",
       "</div>"
      ],
      "text/plain": [
       "       timestamp  visitorid event  itemid  transactionid\n",
       "0  1433221332117     257597  view  355908            NaN\n",
       "1  1433224214164     992329  view  248676            NaN\n",
       "2  1433221999827     111016  view  318965            NaN\n",
       "3  1433221955914     483717  view  253185            NaN\n",
       "4  1433221337106     951259  view  367447            NaN"
      ]
     },
     "execution_count": 17,
     "metadata": {},
     "output_type": "execute_result"
    }
   ],
   "source": [
    "df_events = pd.read_csv(\"/Volumes/HD 2/DataScientest/PROJET/Jeu de données/donnees_brutes/events.csv\")\n",
    "df_events.head()"
   ]
  },
  {
   "cell_type": "markdown",
   "metadata": {},
   "source": [
    "* Infos de df_events et recherche de valeurs nulles"
   ]
  },
  {
   "cell_type": "code",
   "execution_count": 18,
   "metadata": {},
   "outputs": [
    {
     "name": "stdout",
     "output_type": "stream",
     "text": [
      "<class 'pandas.core.frame.DataFrame'>\n",
      "RangeIndex: 2756101 entries, 0 to 2756100\n",
      "Data columns (total 5 columns):\n",
      " #   Column         Dtype  \n",
      "---  ------         -----  \n",
      " 0   timestamp      int64  \n",
      " 1   visitorid      int64  \n",
      " 2   event          object \n",
      " 3   itemid         int64  \n",
      " 4   transactionid  float64\n",
      "dtypes: float64(1), int64(3), object(1)\n",
      "memory usage: 105.1+ MB\n"
     ]
    },
    {
     "data": {
      "text/plain": [
       "timestamp              0\n",
       "visitorid              0\n",
       "event                  0\n",
       "itemid                 0\n",
       "transactionid    2733644\n",
       "dtype: int64"
      ]
     },
     "execution_count": 18,
     "metadata": {},
     "output_type": "execute_result"
    }
   ],
   "source": [
    "df_events.info()\n",
    "df_events.isna().sum()"
   ]
  },
  {
   "cell_type": "markdown",
   "metadata": {},
   "source": [
    "_Donne 2756101 rows et 2733644 valeurs nulels dans transaction id reflétant un nombre de transactions très bas_"
   ]
  },
  {
   "cell_type": "markdown",
   "metadata": {},
   "source": [
    "* Nombre valeurs uniques dans df_events :"
   ]
  },
  {
   "cell_type": "code",
   "execution_count": 19,
   "metadata": {
    "scrolled": true
   },
   "outputs": [
    {
     "data": {
      "text/plain": [
       "timestamp        2750455\n",
       "visitorid        1407580\n",
       "event                  3\n",
       "itemid            235061\n",
       "transactionid      17672\n",
       "dtype: int64"
      ]
     },
     "execution_count": 19,
     "metadata": {},
     "output_type": "execute_result"
    }
   ],
   "source": [
    "df_events.nunique(axis=0)"
   ]
  },
  {
   "cell_type": "markdown",
   "metadata": {},
   "source": [
    "_1407580 Utilisateurs unique,_\n",
    "_235061 Produits,_\n",
    "_17672 transactions_"
   ]
  },
  {
   "cell_type": "markdown",
   "metadata": {},
   "source": [
    "* Nombre de lignes dupliquées (que dans df_events, aucune dans les autres dataframes)"
   ]
  },
  {
   "cell_type": "code",
   "execution_count": 20,
   "metadata": {},
   "outputs": [
    {
     "data": {
      "text/plain": [
       "(460, 5)"
      ]
     },
     "execution_count": 20,
     "metadata": {},
     "output_type": "execute_result"
    }
   ],
   "source": [
    "df_events[df_events.duplicated()].shape"
   ]
  },
  {
   "cell_type": "markdown",
   "metadata": {},
   "source": [
    "_On constate 460 lignes dupliquées, on les supprime du dataframe df_events :_"
   ]
  },
  {
   "cell_type": "code",
   "execution_count": 21,
   "metadata": {},
   "outputs": [],
   "source": [
    "df_events.drop_duplicates(inplace=True)"
   ]
  },
  {
   "cell_type": "markdown",
   "metadata": {},
   "source": [
    "* Répartition du nombre de valeurs dans la colonne event"
   ]
  },
  {
   "cell_type": "code",
   "execution_count": 22,
   "metadata": {
    "scrolled": true
   },
   "outputs": [
    {
     "data": {
      "text/plain": [
       "view           2664218\n",
       "addtocart        68966\n",
       "transaction      22457\n",
       "Name: event, dtype: int64"
      ]
     },
     "execution_count": 22,
     "metadata": {},
     "output_type": "execute_result"
    }
   ],
   "source": [
    "df_events.event.value_counts()"
   ]
  },
  {
   "cell_type": "markdown",
   "metadata": {},
   "source": [
    "_2664218 produits consultés,_\n",
    "_68966 produits ajoutés au panier,_\n",
    "_22457 produits vendus_"
   ]
  },
  {
   "cell_type": "markdown",
   "metadata": {},
   "source": [
    "* Avec si peu de transactions on souhaite visualiser le pourcentage de valeurs nulles que cela représente :"
   ]
  },
  {
   "cell_type": "code",
   "execution_count": 23,
   "metadata": {},
   "outputs": [
    {
     "data": {
      "text/plain": [
       "timestamp        0.000000\n",
       "visitorid        0.000000\n",
       "event            0.000000\n",
       "itemid           0.000000\n",
       "transactionid    0.991851\n",
       "dtype: float64"
      ]
     },
     "execution_count": 23,
     "metadata": {},
     "output_type": "execute_result"
    }
   ],
   "source": [
    "df_events.isna().mean()"
   ]
  },
  {
   "cell_type": "markdown",
   "metadata": {},
   "source": [
    "_On a 99% de valeurs nulles sur transactionid_"
   ]
  },
  {
   "cell_type": "markdown",
   "metadata": {},
   "source": [
    "* On souhaite regarder le nombre de valeurs non nulles quand l'événement n'est pas une transaction."
   ]
  },
  {
   "cell_type": "code",
   "execution_count": 24,
   "metadata": {},
   "outputs": [
    {
     "data": {
      "text/html": [
       "<div>\n",
       "<style scoped>\n",
       "    .dataframe tbody tr th:only-of-type {\n",
       "        vertical-align: middle;\n",
       "    }\n",
       "\n",
       "    .dataframe tbody tr th {\n",
       "        vertical-align: top;\n",
       "    }\n",
       "\n",
       "    .dataframe thead th {\n",
       "        text-align: right;\n",
       "    }\n",
       "</style>\n",
       "<table border=\"1\" class=\"dataframe\">\n",
       "  <thead>\n",
       "    <tr style=\"text-align: right;\">\n",
       "      <th>transactionid</th>\n",
       "      <th>False</th>\n",
       "      <th>True</th>\n",
       "    </tr>\n",
       "    <tr>\n",
       "      <th>event</th>\n",
       "      <th></th>\n",
       "      <th></th>\n",
       "    </tr>\n",
       "  </thead>\n",
       "  <tbody>\n",
       "    <tr>\n",
       "      <th>addtocart</th>\n",
       "      <td>0</td>\n",
       "      <td>68966</td>\n",
       "    </tr>\n",
       "    <tr>\n",
       "      <th>transaction</th>\n",
       "      <td>22457</td>\n",
       "      <td>0</td>\n",
       "    </tr>\n",
       "    <tr>\n",
       "      <th>view</th>\n",
       "      <td>0</td>\n",
       "      <td>2664218</td>\n",
       "    </tr>\n",
       "  </tbody>\n",
       "</table>\n",
       "</div>"
      ],
      "text/plain": [
       "transactionid  False    True \n",
       "event                        \n",
       "addtocart          0    68966\n",
       "transaction    22457        0\n",
       "view               0  2664218"
      ]
     },
     "execution_count": 24,
     "metadata": {},
     "output_type": "execute_result"
    }
   ],
   "source": [
    "pd.crosstab(df_events['event'], df_events['transactionid'].isna())"
   ]
  },
  {
   "cell_type": "markdown",
   "metadata": {},
   "source": [
    "_Le 0 indique que la variable transactionid est manquante uniquement lorsque le type d'événement n'est pas une transaction_"
   ]
  },
  {
   "cell_type": "markdown",
   "metadata": {},
   "source": [
    "* df_events est le dataframe qui va le plus nous intéresser pour des calculs d'événements\n",
    "* Conversion du timestamp en dates réelles dans df_events (changement de l'unix en date et creation d'une colonne jour de la semaine (les heures n'avaient pas de sens donc décalage de 5h pour match le -5 UTC americain) :"
   ]
  },
  {
   "cell_type": "code",
   "execution_count": 25,
   "metadata": {},
   "outputs": [
    {
     "data": {
      "text/html": [
       "<div>\n",
       "<style scoped>\n",
       "    .dataframe tbody tr th:only-of-type {\n",
       "        vertical-align: middle;\n",
       "    }\n",
       "\n",
       "    .dataframe tbody tr th {\n",
       "        vertical-align: top;\n",
       "    }\n",
       "\n",
       "    .dataframe thead th {\n",
       "        text-align: right;\n",
       "    }\n",
       "</style>\n",
       "<table border=\"1\" class=\"dataframe\">\n",
       "  <thead>\n",
       "    <tr style=\"text-align: right;\">\n",
       "      <th></th>\n",
       "      <th>timestamp</th>\n",
       "      <th>visitorid</th>\n",
       "      <th>event</th>\n",
       "      <th>itemid</th>\n",
       "      <th>transactionid</th>\n",
       "      <th>day_of_week</th>\n",
       "    </tr>\n",
       "  </thead>\n",
       "  <tbody>\n",
       "    <tr>\n",
       "      <th>0</th>\n",
       "      <td>2015-06-02 00:02:12.117</td>\n",
       "      <td>257597</td>\n",
       "      <td>view</td>\n",
       "      <td>355908</td>\n",
       "      <td>NaN</td>\n",
       "      <td>Tuesday</td>\n",
       "    </tr>\n",
       "    <tr>\n",
       "      <th>1</th>\n",
       "      <td>2015-06-02 00:50:14.164</td>\n",
       "      <td>992329</td>\n",
       "      <td>view</td>\n",
       "      <td>248676</td>\n",
       "      <td>NaN</td>\n",
       "      <td>Tuesday</td>\n",
       "    </tr>\n",
       "    <tr>\n",
       "      <th>2</th>\n",
       "      <td>2015-06-02 00:13:19.827</td>\n",
       "      <td>111016</td>\n",
       "      <td>view</td>\n",
       "      <td>318965</td>\n",
       "      <td>NaN</td>\n",
       "      <td>Tuesday</td>\n",
       "    </tr>\n",
       "    <tr>\n",
       "      <th>3</th>\n",
       "      <td>2015-06-02 00:12:35.914</td>\n",
       "      <td>483717</td>\n",
       "      <td>view</td>\n",
       "      <td>253185</td>\n",
       "      <td>NaN</td>\n",
       "      <td>Tuesday</td>\n",
       "    </tr>\n",
       "    <tr>\n",
       "      <th>4</th>\n",
       "      <td>2015-06-02 00:02:17.106</td>\n",
       "      <td>951259</td>\n",
       "      <td>view</td>\n",
       "      <td>367447</td>\n",
       "      <td>NaN</td>\n",
       "      <td>Tuesday</td>\n",
       "    </tr>\n",
       "  </tbody>\n",
       "</table>\n",
       "</div>"
      ],
      "text/plain": [
       "                timestamp  visitorid event  itemid  transactionid day_of_week\n",
       "0 2015-06-02 00:02:12.117     257597  view  355908            NaN     Tuesday\n",
       "1 2015-06-02 00:50:14.164     992329  view  248676            NaN     Tuesday\n",
       "2 2015-06-02 00:13:19.827     111016  view  318965            NaN     Tuesday\n",
       "3 2015-06-02 00:12:35.914     483717  view  253185            NaN     Tuesday\n",
       "4 2015-06-02 00:02:17.106     951259  view  367447            NaN     Tuesday"
      ]
     },
     "execution_count": 25,
     "metadata": {},
     "output_type": "execute_result"
    }
   ],
   "source": [
    "import datetime\n",
    "import calendar\n",
    "\n",
    "df_events['timestamp'] = pd.to_datetime(df_events['timestamp'], unit= \"ms\",) - datetime.timedelta(hours=5)\n",
    "df_events['day_of_week'] = df_events.timestamp.dt.day_name()\n",
    "\n",
    "df_events.head()"
   ]
  },
  {
   "cell_type": "markdown",
   "metadata": {},
   "source": [
    "* On remet les jours de la semaine dans l'ordre et on sépare les valeurs de la colonne event en 3 colonnes"
   ]
  },
  {
   "cell_type": "code",
   "execution_count": 26,
   "metadata": {},
   "outputs": [
    {
     "data": {
      "text/html": [
       "<div>\n",
       "<style scoped>\n",
       "    .dataframe tbody tr th:only-of-type {\n",
       "        vertical-align: middle;\n",
       "    }\n",
       "\n",
       "    .dataframe tbody tr th {\n",
       "        vertical-align: top;\n",
       "    }\n",
       "\n",
       "    .dataframe thead th {\n",
       "        text-align: right;\n",
       "    }\n",
       "</style>\n",
       "<table border=\"1\" class=\"dataframe\">\n",
       "  <thead>\n",
       "    <tr style=\"text-align: right;\">\n",
       "      <th></th>\n",
       "      <th>timestamp</th>\n",
       "      <th>visitorid</th>\n",
       "      <th>event</th>\n",
       "      <th>itemid</th>\n",
       "      <th>transactionid</th>\n",
       "      <th>day_of_week</th>\n",
       "      <th>events_addtocart</th>\n",
       "      <th>events_transaction</th>\n",
       "      <th>events_view</th>\n",
       "    </tr>\n",
       "  </thead>\n",
       "  <tbody>\n",
       "    <tr>\n",
       "      <th>0</th>\n",
       "      <td>2015-06-02 00:02:12.117</td>\n",
       "      <td>257597</td>\n",
       "      <td>view</td>\n",
       "      <td>355908</td>\n",
       "      <td>NaN</td>\n",
       "      <td>Tuesday</td>\n",
       "      <td>0</td>\n",
       "      <td>0</td>\n",
       "      <td>1</td>\n",
       "    </tr>\n",
       "    <tr>\n",
       "      <th>1</th>\n",
       "      <td>2015-06-02 00:50:14.164</td>\n",
       "      <td>992329</td>\n",
       "      <td>view</td>\n",
       "      <td>248676</td>\n",
       "      <td>NaN</td>\n",
       "      <td>Tuesday</td>\n",
       "      <td>0</td>\n",
       "      <td>0</td>\n",
       "      <td>1</td>\n",
       "    </tr>\n",
       "    <tr>\n",
       "      <th>2</th>\n",
       "      <td>2015-06-02 00:13:19.827</td>\n",
       "      <td>111016</td>\n",
       "      <td>view</td>\n",
       "      <td>318965</td>\n",
       "      <td>NaN</td>\n",
       "      <td>Tuesday</td>\n",
       "      <td>0</td>\n",
       "      <td>0</td>\n",
       "      <td>1</td>\n",
       "    </tr>\n",
       "    <tr>\n",
       "      <th>3</th>\n",
       "      <td>2015-06-02 00:12:35.914</td>\n",
       "      <td>483717</td>\n",
       "      <td>view</td>\n",
       "      <td>253185</td>\n",
       "      <td>NaN</td>\n",
       "      <td>Tuesday</td>\n",
       "      <td>0</td>\n",
       "      <td>0</td>\n",
       "      <td>1</td>\n",
       "    </tr>\n",
       "    <tr>\n",
       "      <th>4</th>\n",
       "      <td>2015-06-02 00:02:17.106</td>\n",
       "      <td>951259</td>\n",
       "      <td>view</td>\n",
       "      <td>367447</td>\n",
       "      <td>NaN</td>\n",
       "      <td>Tuesday</td>\n",
       "      <td>0</td>\n",
       "      <td>0</td>\n",
       "      <td>1</td>\n",
       "    </tr>\n",
       "  </tbody>\n",
       "</table>\n",
       "</div>"
      ],
      "text/plain": [
       "                timestamp  visitorid event  itemid  transactionid day_of_week  \\\n",
       "0 2015-06-02 00:02:12.117     257597  view  355908            NaN     Tuesday   \n",
       "1 2015-06-02 00:50:14.164     992329  view  248676            NaN     Tuesday   \n",
       "2 2015-06-02 00:13:19.827     111016  view  318965            NaN     Tuesday   \n",
       "3 2015-06-02 00:12:35.914     483717  view  253185            NaN     Tuesday   \n",
       "4 2015-06-02 00:02:17.106     951259  view  367447            NaN     Tuesday   \n",
       "\n",
       "   events_addtocart  events_transaction  events_view  \n",
       "0                 0                   0            1  \n",
       "1                 0                   0            1  \n",
       "2                 0                   0            1  \n",
       "3                 0                   0            1  \n",
       "4                 0                   0            1  "
      ]
     },
     "execution_count": 26,
     "metadata": {},
     "output_type": "execute_result"
    }
   ],
   "source": [
    "cats = ['Monday', 'Tuesday', 'Wednesday', 'Thursday', 'Friday', 'Saturday', 'Sunday']\n",
    "df_events['day_of_week'] = pd.Categorical(df_events['day_of_week'], categories=cats, ordered=True)\n",
    "\n",
    "df_events = df_events.join(pd.get_dummies(df_events.event, prefix = \"events\"))\n",
    "df_events.head()"
   ]
  },
  {
   "cell_type": "markdown",
   "metadata": {},
   "source": [
    "* Durée data set df_events"
   ]
  },
  {
   "cell_type": "code",
   "execution_count": 27,
   "metadata": {},
   "outputs": [
    {
     "data": {
      "text/plain": [
       "Timedelta('137 days 23:59:43.404000')"
      ]
     },
     "execution_count": 27,
     "metadata": {},
     "output_type": "execute_result"
    }
   ],
   "source": [
    "df_events.timestamp.max() - df_events.timestamp.min()"
   ]
  },
  {
   "cell_type": "markdown",
   "metadata": {},
   "source": [
    "_Soit une période de 4,5 mois_"
   ]
  },
  {
   "cell_type": "markdown",
   "metadata": {},
   "source": [
    "* Max et min de la variable timestamp convertie dans df_events"
   ]
  },
  {
   "cell_type": "code",
   "execution_count": 28,
   "metadata": {},
   "outputs": [
    {
     "name": "stdout",
     "output_type": "stream",
     "text": [
      "la date de debut du dataset est le 2015-05-02 22:00:04.384000 \n",
      " et la date de fin du dataset est le 2015-09-17 21:59:47.788000\n"
     ]
    }
   ],
   "source": [
    "df_events['timestamp'] = pd.to_datetime(df_events['timestamp'])\n",
    "df_events['timestamp'].head()\n",
    "maxi = df_events.max(axis=0)['timestamp']\n",
    "mini = df_events.min(axis=0)['timestamp']\n",
    "print('la date de debut du dataset est le', mini ,\"\\n\",'et la date de fin du dataset est le', maxi)"
   ]
  },
  {
   "cell_type": "markdown",
   "metadata": {},
   "source": [
    "* Pourcentage de valeurs nulles dans df_events, colonne transaction :"
   ]
  },
  {
   "cell_type": "code",
   "execution_count": 29,
   "metadata": {},
   "outputs": [
    {
     "name": "stdout",
     "output_type": "stream",
     "text": [
      "transactionid a  99.18505349572023 % de na\n"
     ]
    }
   ],
   "source": [
    "na_transaction = (df_events.transactionid.isna().sum() / df_events.shape[0]) * 100\n",
    "print(\"transactionid a \", na_transaction, \"% de na\")"
   ]
  },
  {
   "cell_type": "markdown",
   "metadata": {},
   "source": [
    "* Équilibre des valeurs sur df_events timestamp (calcul pour compléter le fichier rapport d'exploration)"
   ]
  },
  {
   "cell_type": "code",
   "execution_count": 30,
   "metadata": {
    "scrolled": true
   },
   "outputs": [
    {
     "name": "stdout",
     "output_type": "stream",
     "text": [
      "2755641\n",
      "['2015-06-02T00:02:12.117000000' '2015-06-02T00:50:14.164000000'\n",
      " '2015-06-02T00:13:19.827000000' ... '2015-07-31T21:57:00.527000000'\n",
      " '2015-07-31T22:08:50.703000000' '2015-07-31T22:36:03.914000000']\n",
      "2015-05-15 01:39:17.755    6\n",
      "2015-06-17 14:13:47.120    6\n",
      "2015-06-02 20:24:40.140    6\n",
      "2015-05-21 12:40:49.621    6\n",
      "2015-06-17 14:07:07.808    6\n",
      "                          ..\n",
      "2015-09-07 12:58:07.288    1\n",
      "2015-05-18 08:22:52.504    1\n",
      "2015-08-11 16:13:12.646    1\n",
      "2015-08-06 10:50:22.597    1\n",
      "2015-06-03 09:59:36.772    1\n",
      "Name: timestamp, Length: 2750455, dtype: int64\n"
     ]
    }
   ],
   "source": [
    "print(df_events['timestamp'].count())\n",
    "print(df_events['timestamp'].unique())\n",
    "print(df_events['timestamp'].value_counts())"
   ]
  },
  {
   "cell_type": "markdown",
   "metadata": {},
   "source": [
    "* Équilibre des valeurs sur df_events visitorid  (calcul pour compléter le fichier rapport d'exploration)"
   ]
  },
  {
   "cell_type": "code",
   "execution_count": 31,
   "metadata": {},
   "outputs": [
    {
     "name": "stdout",
     "output_type": "stream",
     "text": [
      "2755641\n",
      "[ 257597  992329  111016 ...  591435  762376 1184451]\n",
      "1150086    7757\n",
      "530559     4328\n",
      "152963     3024\n",
      "895999     2474\n",
      "163561     2410\n",
      "           ... \n",
      "918817        1\n",
      "920864        1\n",
      "1047838       1\n",
      "1041693       1\n",
      "619217        1\n",
      "Name: visitorid, Length: 1407580, dtype: int64\n"
     ]
    }
   ],
   "source": [
    "print(df_events['visitorid'].count())\n",
    "print(df_events['visitorid'].unique())\n",
    "print(df_events['visitorid'].value_counts())"
   ]
  },
  {
   "cell_type": "markdown",
   "metadata": {},
   "source": [
    "* On constate un déséquilibre, le visitorid 1150086 est venu 7757 fois, le visitorid 530559 est venu 4328 fois, suspicion de bots\n",
    "* Pour identifier s'il y a des bots on définie des bornes arbitrairement et on classe selon ce qu'on estime être des fréquences d'utilisateurs faibles à excessives. Au-dessus de 3 000, on classe ces visitorid dans botts"
   ]
  },
  {
   "cell_type": "code",
   "execution_count": 32,
   "metadata": {},
   "outputs": [
    {
     "data": {
      "text/html": [
       "<div>\n",
       "<style scoped>\n",
       "    .dataframe tbody tr th:only-of-type {\n",
       "        vertical-align: middle;\n",
       "    }\n",
       "\n",
       "    .dataframe tbody tr th {\n",
       "        vertical-align: top;\n",
       "    }\n",
       "\n",
       "    .dataframe thead th {\n",
       "        text-align: right;\n",
       "    }\n",
       "</style>\n",
       "<table border=\"1\" class=\"dataframe\">\n",
       "  <thead>\n",
       "    <tr style=\"text-align: right;\">\n",
       "      <th></th>\n",
       "      <th>timestamp</th>\n",
       "      <th>visitorid</th>\n",
       "      <th>event</th>\n",
       "      <th>itemid</th>\n",
       "      <th>transactionid</th>\n",
       "      <th>day_of_week</th>\n",
       "      <th>events_addtocart</th>\n",
       "      <th>events_transaction</th>\n",
       "      <th>events_view</th>\n",
       "      <th>User frequency</th>\n",
       "      <th>User category</th>\n",
       "    </tr>\n",
       "  </thead>\n",
       "  <tbody>\n",
       "    <tr>\n",
       "      <th>0</th>\n",
       "      <td>2015-06-02 00:02:12.117</td>\n",
       "      <td>257597</td>\n",
       "      <td>view</td>\n",
       "      <td>355908</td>\n",
       "      <td>NaN</td>\n",
       "      <td>Tuesday</td>\n",
       "      <td>0</td>\n",
       "      <td>0</td>\n",
       "      <td>1</td>\n",
       "      <td>2</td>\n",
       "      <td>Infrequent user</td>\n",
       "    </tr>\n",
       "    <tr>\n",
       "      <th>1</th>\n",
       "      <td>2015-06-02 00:50:14.164</td>\n",
       "      <td>992329</td>\n",
       "      <td>view</td>\n",
       "      <td>248676</td>\n",
       "      <td>NaN</td>\n",
       "      <td>Tuesday</td>\n",
       "      <td>0</td>\n",
       "      <td>0</td>\n",
       "      <td>1</td>\n",
       "      <td>30</td>\n",
       "      <td>Recurrent user</td>\n",
       "    </tr>\n",
       "    <tr>\n",
       "      <th>2</th>\n",
       "      <td>2015-06-02 00:13:19.827</td>\n",
       "      <td>111016</td>\n",
       "      <td>view</td>\n",
       "      <td>318965</td>\n",
       "      <td>NaN</td>\n",
       "      <td>Tuesday</td>\n",
       "      <td>0</td>\n",
       "      <td>0</td>\n",
       "      <td>1</td>\n",
       "      <td>2</td>\n",
       "      <td>Infrequent user</td>\n",
       "    </tr>\n",
       "    <tr>\n",
       "      <th>3</th>\n",
       "      <td>2015-06-02 00:12:35.914</td>\n",
       "      <td>483717</td>\n",
       "      <td>view</td>\n",
       "      <td>253185</td>\n",
       "      <td>NaN</td>\n",
       "      <td>Tuesday</td>\n",
       "      <td>0</td>\n",
       "      <td>0</td>\n",
       "      <td>1</td>\n",
       "      <td>3</td>\n",
       "      <td>Infrequent user</td>\n",
       "    </tr>\n",
       "    <tr>\n",
       "      <th>4</th>\n",
       "      <td>2015-06-02 00:02:17.106</td>\n",
       "      <td>951259</td>\n",
       "      <td>view</td>\n",
       "      <td>367447</td>\n",
       "      <td>NaN</td>\n",
       "      <td>Tuesday</td>\n",
       "      <td>0</td>\n",
       "      <td>0</td>\n",
       "      <td>1</td>\n",
       "      <td>1</td>\n",
       "      <td>Infrequent user</td>\n",
       "    </tr>\n",
       "  </tbody>\n",
       "</table>\n",
       "</div>"
      ],
      "text/plain": [
       "                timestamp  visitorid event  itemid  transactionid day_of_week  \\\n",
       "0 2015-06-02 00:02:12.117     257597  view  355908            NaN     Tuesday   \n",
       "1 2015-06-02 00:50:14.164     992329  view  248676            NaN     Tuesday   \n",
       "2 2015-06-02 00:13:19.827     111016  view  318965            NaN     Tuesday   \n",
       "3 2015-06-02 00:12:35.914     483717  view  253185            NaN     Tuesday   \n",
       "4 2015-06-02 00:02:17.106     951259  view  367447            NaN     Tuesday   \n",
       "\n",
       "   events_addtocart  events_transaction  events_view  User frequency  \\\n",
       "0                 0                   0            1               2   \n",
       "1                 0                   0            1              30   \n",
       "2                 0                   0            1               2   \n",
       "3                 0                   0            1               3   \n",
       "4                 0                   0            1               1   \n",
       "\n",
       "     User category  \n",
       "0  Infrequent user  \n",
       "1   Recurrent user  \n",
       "2  Infrequent user  \n",
       "3  Infrequent user  \n",
       "4  Infrequent user  "
      ]
     },
     "execution_count": 32,
     "metadata": {},
     "output_type": "execute_result"
    }
   ],
   "source": [
    "df_events['User frequency'] = df_events['visitorid'].map(df_events['visitorid'].value_counts())\n",
    "borne = [0, 10, 50, 3000, 7757]\n",
    "label = [\"Infrequent user\",\"Recurrent user\",\"Big user\",\"Bots\"]\n",
    "df_events[\"User category\"] =  pd.cut(df_events['User frequency'],borne, labels = label)\n",
    "df_events.head()"
   ]
  },
  {
   "cell_type": "markdown",
   "metadata": {},
   "source": [
    "* On compte les nombre de valeurs de ces nouvelles catégories. Cela nous révèle un nombre anormal de fréquences élevées"
   ]
  },
  {
   "cell_type": "code",
   "execution_count": 33,
   "metadata": {},
   "outputs": [
    {
     "data": {
      "text/plain": [
       "Infrequent user    2209275\n",
       "Recurrent user      332705\n",
       "Big user            198552\n",
       "Bots                 15109\n",
       "Name: User category, dtype: int64"
      ]
     },
     "execution_count": 33,
     "metadata": {},
     "output_type": "execute_result"
    }
   ],
   "source": [
    "df_events['User category'].value_counts()"
   ]
  },
  {
   "cell_type": "markdown",
   "metadata": {},
   "source": [
    "* On fait la même manipulation sur les items pour mesurer la popularité de ces derniers "
   ]
  },
  {
   "cell_type": "code",
   "execution_count": 34,
   "metadata": {},
   "outputs": [
    {
     "data": {
      "text/html": [
       "<div>\n",
       "<style scoped>\n",
       "    .dataframe tbody tr th:only-of-type {\n",
       "        vertical-align: middle;\n",
       "    }\n",
       "\n",
       "    .dataframe tbody tr th {\n",
       "        vertical-align: top;\n",
       "    }\n",
       "\n",
       "    .dataframe thead th {\n",
       "        text-align: right;\n",
       "    }\n",
       "</style>\n",
       "<table border=\"1\" class=\"dataframe\">\n",
       "  <thead>\n",
       "    <tr style=\"text-align: right;\">\n",
       "      <th></th>\n",
       "      <th>timestamp</th>\n",
       "      <th>visitorid</th>\n",
       "      <th>event</th>\n",
       "      <th>itemid</th>\n",
       "      <th>transactionid</th>\n",
       "      <th>day_of_week</th>\n",
       "      <th>events_addtocart</th>\n",
       "      <th>events_transaction</th>\n",
       "      <th>events_view</th>\n",
       "      <th>User frequency</th>\n",
       "      <th>User category</th>\n",
       "      <th>Product frequency</th>\n",
       "      <th>Product category</th>\n",
       "    </tr>\n",
       "  </thead>\n",
       "  <tbody>\n",
       "    <tr>\n",
       "      <th>0</th>\n",
       "      <td>2015-06-02 00:02:12.117</td>\n",
       "      <td>257597</td>\n",
       "      <td>view</td>\n",
       "      <td>355908</td>\n",
       "      <td>NaN</td>\n",
       "      <td>Tuesday</td>\n",
       "      <td>0</td>\n",
       "      <td>0</td>\n",
       "      <td>1</td>\n",
       "      <td>2</td>\n",
       "      <td>Infrequent user</td>\n",
       "      <td>57</td>\n",
       "      <td>Unpopular products</td>\n",
       "    </tr>\n",
       "    <tr>\n",
       "      <th>1</th>\n",
       "      <td>2015-06-02 00:50:14.164</td>\n",
       "      <td>992329</td>\n",
       "      <td>view</td>\n",
       "      <td>248676</td>\n",
       "      <td>NaN</td>\n",
       "      <td>Tuesday</td>\n",
       "      <td>0</td>\n",
       "      <td>0</td>\n",
       "      <td>1</td>\n",
       "      <td>30</td>\n",
       "      <td>Recurrent user</td>\n",
       "      <td>34</td>\n",
       "      <td>Unpopular products</td>\n",
       "    </tr>\n",
       "    <tr>\n",
       "      <th>2</th>\n",
       "      <td>2015-06-02 00:13:19.827</td>\n",
       "      <td>111016</td>\n",
       "      <td>view</td>\n",
       "      <td>318965</td>\n",
       "      <td>NaN</td>\n",
       "      <td>Tuesday</td>\n",
       "      <td>0</td>\n",
       "      <td>0</td>\n",
       "      <td>1</td>\n",
       "      <td>2</td>\n",
       "      <td>Infrequent user</td>\n",
       "      <td>15</td>\n",
       "      <td>Unpopular products</td>\n",
       "    </tr>\n",
       "    <tr>\n",
       "      <th>3</th>\n",
       "      <td>2015-06-02 00:12:35.914</td>\n",
       "      <td>483717</td>\n",
       "      <td>view</td>\n",
       "      <td>253185</td>\n",
       "      <td>NaN</td>\n",
       "      <td>Tuesday</td>\n",
       "      <td>0</td>\n",
       "      <td>0</td>\n",
       "      <td>1</td>\n",
       "      <td>3</td>\n",
       "      <td>Infrequent user</td>\n",
       "      <td>14</td>\n",
       "      <td>Unpopular products</td>\n",
       "    </tr>\n",
       "    <tr>\n",
       "      <th>4</th>\n",
       "      <td>2015-06-02 00:02:17.106</td>\n",
       "      <td>951259</td>\n",
       "      <td>view</td>\n",
       "      <td>367447</td>\n",
       "      <td>NaN</td>\n",
       "      <td>Tuesday</td>\n",
       "      <td>0</td>\n",
       "      <td>0</td>\n",
       "      <td>1</td>\n",
       "      <td>1</td>\n",
       "      <td>Infrequent user</td>\n",
       "      <td>260</td>\n",
       "      <td>Popular products</td>\n",
       "    </tr>\n",
       "  </tbody>\n",
       "</table>\n",
       "</div>"
      ],
      "text/plain": [
       "                timestamp  visitorid event  itemid  transactionid day_of_week  \\\n",
       "0 2015-06-02 00:02:12.117     257597  view  355908            NaN     Tuesday   \n",
       "1 2015-06-02 00:50:14.164     992329  view  248676            NaN     Tuesday   \n",
       "2 2015-06-02 00:13:19.827     111016  view  318965            NaN     Tuesday   \n",
       "3 2015-06-02 00:12:35.914     483717  view  253185            NaN     Tuesday   \n",
       "4 2015-06-02 00:02:17.106     951259  view  367447            NaN     Tuesday   \n",
       "\n",
       "   events_addtocart  events_transaction  events_view  User frequency  \\\n",
       "0                 0                   0            1               2   \n",
       "1                 0                   0            1              30   \n",
       "2                 0                   0            1               2   \n",
       "3                 0                   0            1               3   \n",
       "4                 0                   0            1               1   \n",
       "\n",
       "     User category  Product frequency    Product category  \n",
       "0  Infrequent user                 57  Unpopular products  \n",
       "1   Recurrent user                 34  Unpopular products  \n",
       "2  Infrequent user                 15  Unpopular products  \n",
       "3  Infrequent user                 14  Unpopular products  \n",
       "4  Infrequent user                260    Popular products  "
      ]
     },
     "execution_count": 34,
     "metadata": {},
     "output_type": "execute_result"
    }
   ],
   "source": [
    "df_events['Product frequency'] = df_events['itemid'].map(df_events['itemid'].value_counts())\n",
    "borne = [0,100, 1000, 1500, 2000]\n",
    "label = [\"Unpopular products\",\"Popular products\",\"Very popular products\",\"Most popular products\"]\n",
    "df_events['Product category'] =  pd.cut(df_events['Product frequency'],borne, labels = label)\n",
    "df_events.head()"
   ]
  },
  {
   "cell_type": "markdown",
   "metadata": {},
   "source": [
    "* Équilibre des valeurs sur df_events event  (calcul pour compléter le fichier rapport d'exploration)"
   ]
  },
  {
   "cell_type": "code",
   "execution_count": 35,
   "metadata": {
    "scrolled": true
   },
   "outputs": [
    {
     "name": "stdout",
     "output_type": "stream",
     "text": [
      "2755641\n",
      "['view' 'addtocart' 'transaction']\n",
      "view           2664218\n",
      "addtocart        68966\n",
      "transaction      22457\n",
      "Name: event, dtype: int64\n"
     ]
    }
   ],
   "source": [
    "print(df_events['event'].count())\n",
    "print(df_events['event'].unique())\n",
    "print(df_events['event'].value_counts())"
   ]
  },
  {
   "cell_type": "markdown",
   "metadata": {},
   "source": [
    "* Équilibre des valeurs sur df_events itemid  (calcul pour compléter le fichier rapport d'exploration)"
   ]
  },
  {
   "cell_type": "code",
   "execution_count": 36,
   "metadata": {},
   "outputs": [
    {
     "name": "stdout",
     "output_type": "stream",
     "text": [
      "2755641\n",
      "[355908 248676 318965 ...    613  52086 177353]\n",
      "187946    3412\n",
      "461686    2975\n",
      "5411      2334\n",
      "370653    1854\n",
      "219512    1800\n",
      "          ... \n",
      "214439       1\n",
      "37800        1\n",
      "227720       1\n",
      "223626       1\n",
      "2047         1\n",
      "Name: itemid, Length: 235061, dtype: int64\n"
     ]
    }
   ],
   "source": [
    "print(df_events['itemid'].count())\n",
    "print(df_events['itemid'].unique())\n",
    "print(df_events['itemid'].value_counts())"
   ]
  },
  {
   "cell_type": "code",
   "execution_count": 37,
   "metadata": {},
   "outputs": [
    {
     "data": {
      "text/html": [
       "<div>\n",
       "<style scoped>\n",
       "    .dataframe tbody tr th:only-of-type {\n",
       "        vertical-align: middle;\n",
       "    }\n",
       "\n",
       "    .dataframe tbody tr th {\n",
       "        vertical-align: top;\n",
       "    }\n",
       "\n",
       "    .dataframe thead th {\n",
       "        text-align: right;\n",
       "    }\n",
       "</style>\n",
       "<table border=\"1\" class=\"dataframe\">\n",
       "  <thead>\n",
       "    <tr style=\"text-align: right;\">\n",
       "      <th></th>\n",
       "      <th>timestamp</th>\n",
       "      <th>visitorid</th>\n",
       "      <th>event</th>\n",
       "      <th>itemid</th>\n",
       "      <th>transactionid</th>\n",
       "      <th>day_of_week</th>\n",
       "      <th>events_addtocart</th>\n",
       "      <th>events_transaction</th>\n",
       "      <th>events_view</th>\n",
       "      <th>User frequency</th>\n",
       "      <th>User category</th>\n",
       "      <th>Product frequency</th>\n",
       "      <th>Product category</th>\n",
       "    </tr>\n",
       "  </thead>\n",
       "  <tbody>\n",
       "    <tr>\n",
       "      <th>0</th>\n",
       "      <td>2015-06-02 00:02:12.117</td>\n",
       "      <td>257597</td>\n",
       "      <td>view</td>\n",
       "      <td>355908</td>\n",
       "      <td>NaN</td>\n",
       "      <td>Tuesday</td>\n",
       "      <td>0</td>\n",
       "      <td>0</td>\n",
       "      <td>1</td>\n",
       "      <td>2</td>\n",
       "      <td>Infrequent user</td>\n",
       "      <td>57</td>\n",
       "      <td>Unpopular products</td>\n",
       "    </tr>\n",
       "    <tr>\n",
       "      <th>1</th>\n",
       "      <td>2015-06-02 00:50:14.164</td>\n",
       "      <td>992329</td>\n",
       "      <td>view</td>\n",
       "      <td>248676</td>\n",
       "      <td>NaN</td>\n",
       "      <td>Tuesday</td>\n",
       "      <td>0</td>\n",
       "      <td>0</td>\n",
       "      <td>1</td>\n",
       "      <td>30</td>\n",
       "      <td>Recurrent user</td>\n",
       "      <td>34</td>\n",
       "      <td>Unpopular products</td>\n",
       "    </tr>\n",
       "    <tr>\n",
       "      <th>2</th>\n",
       "      <td>2015-06-02 00:13:19.827</td>\n",
       "      <td>111016</td>\n",
       "      <td>view</td>\n",
       "      <td>318965</td>\n",
       "      <td>NaN</td>\n",
       "      <td>Tuesday</td>\n",
       "      <td>0</td>\n",
       "      <td>0</td>\n",
       "      <td>1</td>\n",
       "      <td>2</td>\n",
       "      <td>Infrequent user</td>\n",
       "      <td>15</td>\n",
       "      <td>Unpopular products</td>\n",
       "    </tr>\n",
       "    <tr>\n",
       "      <th>3</th>\n",
       "      <td>2015-06-02 00:12:35.914</td>\n",
       "      <td>483717</td>\n",
       "      <td>view</td>\n",
       "      <td>253185</td>\n",
       "      <td>NaN</td>\n",
       "      <td>Tuesday</td>\n",
       "      <td>0</td>\n",
       "      <td>0</td>\n",
       "      <td>1</td>\n",
       "      <td>3</td>\n",
       "      <td>Infrequent user</td>\n",
       "      <td>14</td>\n",
       "      <td>Unpopular products</td>\n",
       "    </tr>\n",
       "    <tr>\n",
       "      <th>4</th>\n",
       "      <td>2015-06-02 00:02:17.106</td>\n",
       "      <td>951259</td>\n",
       "      <td>view</td>\n",
       "      <td>367447</td>\n",
       "      <td>NaN</td>\n",
       "      <td>Tuesday</td>\n",
       "      <td>0</td>\n",
       "      <td>0</td>\n",
       "      <td>1</td>\n",
       "      <td>1</td>\n",
       "      <td>Infrequent user</td>\n",
       "      <td>260</td>\n",
       "      <td>Popular products</td>\n",
       "    </tr>\n",
       "  </tbody>\n",
       "</table>\n",
       "</div>"
      ],
      "text/plain": [
       "                timestamp  visitorid event  itemid  transactionid day_of_week  \\\n",
       "0 2015-06-02 00:02:12.117     257597  view  355908            NaN     Tuesday   \n",
       "1 2015-06-02 00:50:14.164     992329  view  248676            NaN     Tuesday   \n",
       "2 2015-06-02 00:13:19.827     111016  view  318965            NaN     Tuesday   \n",
       "3 2015-06-02 00:12:35.914     483717  view  253185            NaN     Tuesday   \n",
       "4 2015-06-02 00:02:17.106     951259  view  367447            NaN     Tuesday   \n",
       "\n",
       "   events_addtocart  events_transaction  events_view  User frequency  \\\n",
       "0                 0                   0            1               2   \n",
       "1                 0                   0            1              30   \n",
       "2                 0                   0            1               2   \n",
       "3                 0                   0            1               3   \n",
       "4                 0                   0            1               1   \n",
       "\n",
       "     User category  Product frequency    Product category  \n",
       "0  Infrequent user                 57  Unpopular products  \n",
       "1   Recurrent user                 34  Unpopular products  \n",
       "2  Infrequent user                 15  Unpopular products  \n",
       "3  Infrequent user                 14  Unpopular products  \n",
       "4  Infrequent user                260    Popular products  "
      ]
     },
     "execution_count": 37,
     "metadata": {},
     "output_type": "execute_result"
    }
   ],
   "source": [
    "df_events.head()"
   ]
  },
  {
   "cell_type": "markdown",
   "metadata": {},
   "source": [
    "* Équilibre des valeurs sur df_events transactionid  (calcul pour compléter le fichier rapport d'exploration)"
   ]
  },
  {
   "cell_type": "code",
   "execution_count": 38,
   "metadata": {},
   "outputs": [
    {
     "name": "stdout",
     "output_type": "stream",
     "text": [
      "22457\n",
      "7063.0     31\n",
      "765.0      28\n",
      "8351.0     27\n",
      "2753.0     23\n",
      "6993.0     21\n",
      "           ..\n",
      "11740.0     1\n",
      "11739.0     1\n",
      "11738.0     1\n",
      "11737.0     1\n",
      "2.0         1\n",
      "Name: transactionid, Length: 17672, dtype: int64\n"
     ]
    }
   ],
   "source": [
    "print(df_events['transactionid'].count())\n",
    "print(df_events['transactionid'].value_counts())"
   ]
  },
  {
   "cell_type": "markdown",
   "metadata": {},
   "source": [
    "• Comptage des valeurs uniques dans le dataframe"
   ]
  },
  {
   "cell_type": "code",
   "execution_count": 39,
   "metadata": {},
   "outputs": [
    {
     "name": "stdout",
     "output_type": "stream",
     "text": [
      "on observe 235061 produits uniques, 1407580 visiteurs uniques et 17673 transactions uniques dans le dataframe\n"
     ]
    }
   ],
   "source": [
    "a = len(df_events['itemid'].unique())\n",
    "b = len(df_events['visitorid'].unique())\n",
    "c = len(df_events['transactionid'].unique())\n",
    "print('on observe', a,'produits uniques,', b,'visiteurs uniques et', c, 'transactions uniques dans le dataframe')"
   ]
  },
  {
   "cell_type": "markdown",
   "metadata": {},
   "source": [
    "* Observation de quelques \"super-paniers\" avec des paniers contenant de nombreux articles (ici test 28 articles, même ID de transaction)"
   ]
  },
  {
   "cell_type": "code",
   "execution_count": 40,
   "metadata": {},
   "outputs": [
    {
     "data": {
      "text/html": [
       "<div>\n",
       "<style scoped>\n",
       "    .dataframe tbody tr th:only-of-type {\n",
       "        vertical-align: middle;\n",
       "    }\n",
       "\n",
       "    .dataframe tbody tr th {\n",
       "        vertical-align: top;\n",
       "    }\n",
       "\n",
       "    .dataframe thead th {\n",
       "        text-align: right;\n",
       "    }\n",
       "</style>\n",
       "<table border=\"1\" class=\"dataframe\">\n",
       "  <thead>\n",
       "    <tr style=\"text-align: right;\">\n",
       "      <th></th>\n",
       "      <th>timestamp</th>\n",
       "      <th>visitorid</th>\n",
       "      <th>event</th>\n",
       "      <th>itemid</th>\n",
       "      <th>transactionid</th>\n",
       "      <th>day_of_week</th>\n",
       "      <th>events_addtocart</th>\n",
       "      <th>events_transaction</th>\n",
       "      <th>events_view</th>\n",
       "      <th>User frequency</th>\n",
       "      <th>User category</th>\n",
       "      <th>Product frequency</th>\n",
       "      <th>Product category</th>\n",
       "    </tr>\n",
       "  </thead>\n",
       "  <tbody>\n",
       "    <tr>\n",
       "      <th>1683146</th>\n",
       "      <td>2015-05-14 11:40:13.675</td>\n",
       "      <td>761482</td>\n",
       "      <td>transaction</td>\n",
       "      <td>193908</td>\n",
       "      <td>765.0</td>\n",
       "      <td>Thursday</td>\n",
       "      <td>0</td>\n",
       "      <td>1</td>\n",
       "      <td>0</td>\n",
       "      <td>187</td>\n",
       "      <td>Big user</td>\n",
       "      <td>51</td>\n",
       "      <td>Unpopular products</td>\n",
       "    </tr>\n",
       "    <tr>\n",
       "      <th>1683181</th>\n",
       "      <td>2015-05-14 11:40:13.707</td>\n",
       "      <td>761482</td>\n",
       "      <td>transaction</td>\n",
       "      <td>178290</td>\n",
       "      <td>765.0</td>\n",
       "      <td>Thursday</td>\n",
       "      <td>0</td>\n",
       "      <td>1</td>\n",
       "      <td>0</td>\n",
       "      <td>187</td>\n",
       "      <td>Big user</td>\n",
       "      <td>11</td>\n",
       "      <td>Unpopular products</td>\n",
       "    </tr>\n",
       "    <tr>\n",
       "      <th>1683280</th>\n",
       "      <td>2015-05-14 11:40:13.400</td>\n",
       "      <td>761482</td>\n",
       "      <td>transaction</td>\n",
       "      <td>406165</td>\n",
       "      <td>765.0</td>\n",
       "      <td>Thursday</td>\n",
       "      <td>0</td>\n",
       "      <td>1</td>\n",
       "      <td>0</td>\n",
       "      <td>187</td>\n",
       "      <td>Big user</td>\n",
       "      <td>24</td>\n",
       "      <td>Unpopular products</td>\n",
       "    </tr>\n",
       "    <tr>\n",
       "      <th>1683295</th>\n",
       "      <td>2015-05-14 11:40:13.707</td>\n",
       "      <td>761482</td>\n",
       "      <td>transaction</td>\n",
       "      <td>169720</td>\n",
       "      <td>765.0</td>\n",
       "      <td>Thursday</td>\n",
       "      <td>0</td>\n",
       "      <td>1</td>\n",
       "      <td>0</td>\n",
       "      <td>187</td>\n",
       "      <td>Big user</td>\n",
       "      <td>55</td>\n",
       "      <td>Unpopular products</td>\n",
       "    </tr>\n",
       "    <tr>\n",
       "      <th>1683298</th>\n",
       "      <td>2015-05-14 11:40:13.307</td>\n",
       "      <td>761482</td>\n",
       "      <td>transaction</td>\n",
       "      <td>447818</td>\n",
       "      <td>765.0</td>\n",
       "      <td>Thursday</td>\n",
       "      <td>0</td>\n",
       "      <td>1</td>\n",
       "      <td>0</td>\n",
       "      <td>187</td>\n",
       "      <td>Big user</td>\n",
       "      <td>62</td>\n",
       "      <td>Unpopular products</td>\n",
       "    </tr>\n",
       "    <tr>\n",
       "      <th>1683367</th>\n",
       "      <td>2015-05-14 11:40:13.817</td>\n",
       "      <td>761482</td>\n",
       "      <td>transaction</td>\n",
       "      <td>131861</td>\n",
       "      <td>765.0</td>\n",
       "      <td>Thursday</td>\n",
       "      <td>0</td>\n",
       "      <td>1</td>\n",
       "      <td>0</td>\n",
       "      <td>187</td>\n",
       "      <td>Big user</td>\n",
       "      <td>52</td>\n",
       "      <td>Unpopular products</td>\n",
       "    </tr>\n",
       "    <tr>\n",
       "      <th>1687066</th>\n",
       "      <td>2015-05-14 11:40:13.628</td>\n",
       "      <td>761482</td>\n",
       "      <td>transaction</td>\n",
       "      <td>389158</td>\n",
       "      <td>765.0</td>\n",
       "      <td>Thursday</td>\n",
       "      <td>0</td>\n",
       "      <td>1</td>\n",
       "      <td>0</td>\n",
       "      <td>187</td>\n",
       "      <td>Big user</td>\n",
       "      <td>617</td>\n",
       "      <td>Popular products</td>\n",
       "    </tr>\n",
       "    <tr>\n",
       "      <th>1687071</th>\n",
       "      <td>2015-05-14 11:40:13.628</td>\n",
       "      <td>761482</td>\n",
       "      <td>transaction</td>\n",
       "      <td>265846</td>\n",
       "      <td>765.0</td>\n",
       "      <td>Thursday</td>\n",
       "      <td>0</td>\n",
       "      <td>1</td>\n",
       "      <td>0</td>\n",
       "      <td>187</td>\n",
       "      <td>Big user</td>\n",
       "      <td>36</td>\n",
       "      <td>Unpopular products</td>\n",
       "    </tr>\n",
       "    <tr>\n",
       "      <th>1687186</th>\n",
       "      <td>2015-05-14 11:40:13.322</td>\n",
       "      <td>761482</td>\n",
       "      <td>transaction</td>\n",
       "      <td>256146</td>\n",
       "      <td>765.0</td>\n",
       "      <td>Thursday</td>\n",
       "      <td>0</td>\n",
       "      <td>1</td>\n",
       "      <td>0</td>\n",
       "      <td>187</td>\n",
       "      <td>Big user</td>\n",
       "      <td>168</td>\n",
       "      <td>Popular products</td>\n",
       "    </tr>\n",
       "    <tr>\n",
       "      <th>1687206</th>\n",
       "      <td>2015-05-14 11:40:13.338</td>\n",
       "      <td>761482</td>\n",
       "      <td>transaction</td>\n",
       "      <td>130599</td>\n",
       "      <td>765.0</td>\n",
       "      <td>Thursday</td>\n",
       "      <td>0</td>\n",
       "      <td>1</td>\n",
       "      <td>0</td>\n",
       "      <td>187</td>\n",
       "      <td>Big user</td>\n",
       "      <td>84</td>\n",
       "      <td>Unpopular products</td>\n",
       "    </tr>\n",
       "    <tr>\n",
       "      <th>1687253</th>\n",
       "      <td>2015-05-14 11:40:13.470</td>\n",
       "      <td>761482</td>\n",
       "      <td>transaction</td>\n",
       "      <td>39439</td>\n",
       "      <td>765.0</td>\n",
       "      <td>Thursday</td>\n",
       "      <td>0</td>\n",
       "      <td>1</td>\n",
       "      <td>0</td>\n",
       "      <td>187</td>\n",
       "      <td>Big user</td>\n",
       "      <td>163</td>\n",
       "      <td>Popular products</td>\n",
       "    </tr>\n",
       "    <tr>\n",
       "      <th>1687258</th>\n",
       "      <td>2015-05-14 11:40:13.501</td>\n",
       "      <td>761482</td>\n",
       "      <td>transaction</td>\n",
       "      <td>185241</td>\n",
       "      <td>765.0</td>\n",
       "      <td>Thursday</td>\n",
       "      <td>0</td>\n",
       "      <td>1</td>\n",
       "      <td>0</td>\n",
       "      <td>187</td>\n",
       "      <td>Big user</td>\n",
       "      <td>33</td>\n",
       "      <td>Unpopular products</td>\n",
       "    </tr>\n",
       "    <tr>\n",
       "      <th>1687260</th>\n",
       "      <td>2015-05-14 11:40:13.501</td>\n",
       "      <td>761482</td>\n",
       "      <td>transaction</td>\n",
       "      <td>310525</td>\n",
       "      <td>765.0</td>\n",
       "      <td>Thursday</td>\n",
       "      <td>0</td>\n",
       "      <td>1</td>\n",
       "      <td>0</td>\n",
       "      <td>187</td>\n",
       "      <td>Big user</td>\n",
       "      <td>12</td>\n",
       "      <td>Unpopular products</td>\n",
       "    </tr>\n",
       "    <tr>\n",
       "      <th>1687302</th>\n",
       "      <td>2015-05-14 11:40:13.400</td>\n",
       "      <td>761482</td>\n",
       "      <td>transaction</td>\n",
       "      <td>386092</td>\n",
       "      <td>765.0</td>\n",
       "      <td>Thursday</td>\n",
       "      <td>0</td>\n",
       "      <td>1</td>\n",
       "      <td>0</td>\n",
       "      <td>187</td>\n",
       "      <td>Big user</td>\n",
       "      <td>257</td>\n",
       "      <td>Popular products</td>\n",
       "    </tr>\n",
       "    <tr>\n",
       "      <th>1687317</th>\n",
       "      <td>2015-05-14 11:40:13.581</td>\n",
       "      <td>761482</td>\n",
       "      <td>transaction</td>\n",
       "      <td>224818</td>\n",
       "      <td>765.0</td>\n",
       "      <td>Thursday</td>\n",
       "      <td>0</td>\n",
       "      <td>1</td>\n",
       "      <td>0</td>\n",
       "      <td>187</td>\n",
       "      <td>Big user</td>\n",
       "      <td>11</td>\n",
       "      <td>Unpopular products</td>\n",
       "    </tr>\n",
       "    <tr>\n",
       "      <th>1688108</th>\n",
       "      <td>2015-05-14 11:40:13.447</td>\n",
       "      <td>761482</td>\n",
       "      <td>transaction</td>\n",
       "      <td>302909</td>\n",
       "      <td>765.0</td>\n",
       "      <td>Thursday</td>\n",
       "      <td>0</td>\n",
       "      <td>1</td>\n",
       "      <td>0</td>\n",
       "      <td>187</td>\n",
       "      <td>Big user</td>\n",
       "      <td>20</td>\n",
       "      <td>Unpopular products</td>\n",
       "    </tr>\n",
       "    <tr>\n",
       "      <th>1694809</th>\n",
       "      <td>2015-05-14 11:40:13.485</td>\n",
       "      <td>761482</td>\n",
       "      <td>transaction</td>\n",
       "      <td>296749</td>\n",
       "      <td>765.0</td>\n",
       "      <td>Thursday</td>\n",
       "      <td>0</td>\n",
       "      <td>1</td>\n",
       "      <td>0</td>\n",
       "      <td>187</td>\n",
       "      <td>Big user</td>\n",
       "      <td>154</td>\n",
       "      <td>Popular products</td>\n",
       "    </tr>\n",
       "    <tr>\n",
       "      <th>1694990</th>\n",
       "      <td>2015-05-14 11:40:13.832</td>\n",
       "      <td>761482</td>\n",
       "      <td>transaction</td>\n",
       "      <td>438605</td>\n",
       "      <td>765.0</td>\n",
       "      <td>Thursday</td>\n",
       "      <td>0</td>\n",
       "      <td>1</td>\n",
       "      <td>0</td>\n",
       "      <td>187</td>\n",
       "      <td>Big user</td>\n",
       "      <td>60</td>\n",
       "      <td>Unpopular products</td>\n",
       "    </tr>\n",
       "    <tr>\n",
       "      <th>1697078</th>\n",
       "      <td>2015-05-14 11:40:13.597</td>\n",
       "      <td>761482</td>\n",
       "      <td>transaction</td>\n",
       "      <td>367318</td>\n",
       "      <td>765.0</td>\n",
       "      <td>Thursday</td>\n",
       "      <td>0</td>\n",
       "      <td>1</td>\n",
       "      <td>0</td>\n",
       "      <td>187</td>\n",
       "      <td>Big user</td>\n",
       "      <td>28</td>\n",
       "      <td>Unpopular products</td>\n",
       "    </tr>\n",
       "    <tr>\n",
       "      <th>1697144</th>\n",
       "      <td>2015-05-14 11:40:13.691</td>\n",
       "      <td>761482</td>\n",
       "      <td>transaction</td>\n",
       "      <td>137169</td>\n",
       "      <td>765.0</td>\n",
       "      <td>Thursday</td>\n",
       "      <td>0</td>\n",
       "      <td>1</td>\n",
       "      <td>0</td>\n",
       "      <td>187</td>\n",
       "      <td>Big user</td>\n",
       "      <td>24</td>\n",
       "      <td>Unpopular products</td>\n",
       "    </tr>\n",
       "    <tr>\n",
       "      <th>1697302</th>\n",
       "      <td>2015-05-14 11:40:13.307</td>\n",
       "      <td>761482</td>\n",
       "      <td>transaction</td>\n",
       "      <td>108096</td>\n",
       "      <td>765.0</td>\n",
       "      <td>Thursday</td>\n",
       "      <td>0</td>\n",
       "      <td>1</td>\n",
       "      <td>0</td>\n",
       "      <td>187</td>\n",
       "      <td>Big user</td>\n",
       "      <td>198</td>\n",
       "      <td>Popular products</td>\n",
       "    </tr>\n",
       "    <tr>\n",
       "      <th>1697332</th>\n",
       "      <td>2015-05-14 11:40:13.785</td>\n",
       "      <td>761482</td>\n",
       "      <td>transaction</td>\n",
       "      <td>82340</td>\n",
       "      <td>765.0</td>\n",
       "      <td>Thursday</td>\n",
       "      <td>0</td>\n",
       "      <td>1</td>\n",
       "      <td>0</td>\n",
       "      <td>187</td>\n",
       "      <td>Big user</td>\n",
       "      <td>133</td>\n",
       "      <td>Popular products</td>\n",
       "    </tr>\n",
       "    <tr>\n",
       "      <th>1702432</th>\n",
       "      <td>2015-05-14 11:40:13.597</td>\n",
       "      <td>761482</td>\n",
       "      <td>transaction</td>\n",
       "      <td>191050</td>\n",
       "      <td>765.0</td>\n",
       "      <td>Thursday</td>\n",
       "      <td>0</td>\n",
       "      <td>1</td>\n",
       "      <td>0</td>\n",
       "      <td>187</td>\n",
       "      <td>Big user</td>\n",
       "      <td>19</td>\n",
       "      <td>Unpopular products</td>\n",
       "    </tr>\n",
       "    <tr>\n",
       "      <th>1702451</th>\n",
       "      <td>2015-05-14 11:40:13.291</td>\n",
       "      <td>761482</td>\n",
       "      <td>transaction</td>\n",
       "      <td>262699</td>\n",
       "      <td>765.0</td>\n",
       "      <td>Thursday</td>\n",
       "      <td>0</td>\n",
       "      <td>1</td>\n",
       "      <td>0</td>\n",
       "      <td>187</td>\n",
       "      <td>Big user</td>\n",
       "      <td>71</td>\n",
       "      <td>Unpopular products</td>\n",
       "    </tr>\n",
       "    <tr>\n",
       "      <th>1702455</th>\n",
       "      <td>2015-05-14 11:40:13.338</td>\n",
       "      <td>761482</td>\n",
       "      <td>transaction</td>\n",
       "      <td>265775</td>\n",
       "      <td>765.0</td>\n",
       "      <td>Thursday</td>\n",
       "      <td>0</td>\n",
       "      <td>1</td>\n",
       "      <td>0</td>\n",
       "      <td>187</td>\n",
       "      <td>Big user</td>\n",
       "      <td>37</td>\n",
       "      <td>Unpopular products</td>\n",
       "    </tr>\n",
       "    <tr>\n",
       "      <th>1702460</th>\n",
       "      <td>2015-05-14 11:40:13.470</td>\n",
       "      <td>761482</td>\n",
       "      <td>transaction</td>\n",
       "      <td>276886</td>\n",
       "      <td>765.0</td>\n",
       "      <td>Thursday</td>\n",
       "      <td>0</td>\n",
       "      <td>1</td>\n",
       "      <td>0</td>\n",
       "      <td>187</td>\n",
       "      <td>Big user</td>\n",
       "      <td>129</td>\n",
       "      <td>Popular products</td>\n",
       "    </tr>\n",
       "    <tr>\n",
       "      <th>1702467</th>\n",
       "      <td>2015-05-14 11:40:13.566</td>\n",
       "      <td>761482</td>\n",
       "      <td>transaction</td>\n",
       "      <td>380997</td>\n",
       "      <td>765.0</td>\n",
       "      <td>Thursday</td>\n",
       "      <td>0</td>\n",
       "      <td>1</td>\n",
       "      <td>0</td>\n",
       "      <td>187</td>\n",
       "      <td>Big user</td>\n",
       "      <td>126</td>\n",
       "      <td>Popular products</td>\n",
       "    </tr>\n",
       "    <tr>\n",
       "      <th>1702468</th>\n",
       "      <td>2015-05-14 11:40:13.848</td>\n",
       "      <td>761482</td>\n",
       "      <td>transaction</td>\n",
       "      <td>41803</td>\n",
       "      <td>765.0</td>\n",
       "      <td>Thursday</td>\n",
       "      <td>0</td>\n",
       "      <td>1</td>\n",
       "      <td>0</td>\n",
       "      <td>187</td>\n",
       "      <td>Big user</td>\n",
       "      <td>198</td>\n",
       "      <td>Popular products</td>\n",
       "    </tr>\n",
       "  </tbody>\n",
       "</table>\n",
       "</div>"
      ],
      "text/plain": [
       "                      timestamp  visitorid        event  itemid  \\\n",
       "1683146 2015-05-14 11:40:13.675     761482  transaction  193908   \n",
       "1683181 2015-05-14 11:40:13.707     761482  transaction  178290   \n",
       "1683280 2015-05-14 11:40:13.400     761482  transaction  406165   \n",
       "1683295 2015-05-14 11:40:13.707     761482  transaction  169720   \n",
       "1683298 2015-05-14 11:40:13.307     761482  transaction  447818   \n",
       "1683367 2015-05-14 11:40:13.817     761482  transaction  131861   \n",
       "1687066 2015-05-14 11:40:13.628     761482  transaction  389158   \n",
       "1687071 2015-05-14 11:40:13.628     761482  transaction  265846   \n",
       "1687186 2015-05-14 11:40:13.322     761482  transaction  256146   \n",
       "1687206 2015-05-14 11:40:13.338     761482  transaction  130599   \n",
       "1687253 2015-05-14 11:40:13.470     761482  transaction   39439   \n",
       "1687258 2015-05-14 11:40:13.501     761482  transaction  185241   \n",
       "1687260 2015-05-14 11:40:13.501     761482  transaction  310525   \n",
       "1687302 2015-05-14 11:40:13.400     761482  transaction  386092   \n",
       "1687317 2015-05-14 11:40:13.581     761482  transaction  224818   \n",
       "1688108 2015-05-14 11:40:13.447     761482  transaction  302909   \n",
       "1694809 2015-05-14 11:40:13.485     761482  transaction  296749   \n",
       "1694990 2015-05-14 11:40:13.832     761482  transaction  438605   \n",
       "1697078 2015-05-14 11:40:13.597     761482  transaction  367318   \n",
       "1697144 2015-05-14 11:40:13.691     761482  transaction  137169   \n",
       "1697302 2015-05-14 11:40:13.307     761482  transaction  108096   \n",
       "1697332 2015-05-14 11:40:13.785     761482  transaction   82340   \n",
       "1702432 2015-05-14 11:40:13.597     761482  transaction  191050   \n",
       "1702451 2015-05-14 11:40:13.291     761482  transaction  262699   \n",
       "1702455 2015-05-14 11:40:13.338     761482  transaction  265775   \n",
       "1702460 2015-05-14 11:40:13.470     761482  transaction  276886   \n",
       "1702467 2015-05-14 11:40:13.566     761482  transaction  380997   \n",
       "1702468 2015-05-14 11:40:13.848     761482  transaction   41803   \n",
       "\n",
       "         transactionid day_of_week  events_addtocart  events_transaction  \\\n",
       "1683146          765.0    Thursday                 0                   1   \n",
       "1683181          765.0    Thursday                 0                   1   \n",
       "1683280          765.0    Thursday                 0                   1   \n",
       "1683295          765.0    Thursday                 0                   1   \n",
       "1683298          765.0    Thursday                 0                   1   \n",
       "1683367          765.0    Thursday                 0                   1   \n",
       "1687066          765.0    Thursday                 0                   1   \n",
       "1687071          765.0    Thursday                 0                   1   \n",
       "1687186          765.0    Thursday                 0                   1   \n",
       "1687206          765.0    Thursday                 0                   1   \n",
       "1687253          765.0    Thursday                 0                   1   \n",
       "1687258          765.0    Thursday                 0                   1   \n",
       "1687260          765.0    Thursday                 0                   1   \n",
       "1687302          765.0    Thursday                 0                   1   \n",
       "1687317          765.0    Thursday                 0                   1   \n",
       "1688108          765.0    Thursday                 0                   1   \n",
       "1694809          765.0    Thursday                 0                   1   \n",
       "1694990          765.0    Thursday                 0                   1   \n",
       "1697078          765.0    Thursday                 0                   1   \n",
       "1697144          765.0    Thursday                 0                   1   \n",
       "1697302          765.0    Thursday                 0                   1   \n",
       "1697332          765.0    Thursday                 0                   1   \n",
       "1702432          765.0    Thursday                 0                   1   \n",
       "1702451          765.0    Thursday                 0                   1   \n",
       "1702455          765.0    Thursday                 0                   1   \n",
       "1702460          765.0    Thursday                 0                   1   \n",
       "1702467          765.0    Thursday                 0                   1   \n",
       "1702468          765.0    Thursday                 0                   1   \n",
       "\n",
       "         events_view  User frequency User category  Product frequency  \\\n",
       "1683146            0             187      Big user                 51   \n",
       "1683181            0             187      Big user                 11   \n",
       "1683280            0             187      Big user                 24   \n",
       "1683295            0             187      Big user                 55   \n",
       "1683298            0             187      Big user                 62   \n",
       "1683367            0             187      Big user                 52   \n",
       "1687066            0             187      Big user                617   \n",
       "1687071            0             187      Big user                 36   \n",
       "1687186            0             187      Big user                168   \n",
       "1687206            0             187      Big user                 84   \n",
       "1687253            0             187      Big user                163   \n",
       "1687258            0             187      Big user                 33   \n",
       "1687260            0             187      Big user                 12   \n",
       "1687302            0             187      Big user                257   \n",
       "1687317            0             187      Big user                 11   \n",
       "1688108            0             187      Big user                 20   \n",
       "1694809            0             187      Big user                154   \n",
       "1694990            0             187      Big user                 60   \n",
       "1697078            0             187      Big user                 28   \n",
       "1697144            0             187      Big user                 24   \n",
       "1697302            0             187      Big user                198   \n",
       "1697332            0             187      Big user                133   \n",
       "1702432            0             187      Big user                 19   \n",
       "1702451            0             187      Big user                 71   \n",
       "1702455            0             187      Big user                 37   \n",
       "1702460            0             187      Big user                129   \n",
       "1702467            0             187      Big user                126   \n",
       "1702468            0             187      Big user                198   \n",
       "\n",
       "           Product category  \n",
       "1683146  Unpopular products  \n",
       "1683181  Unpopular products  \n",
       "1683280  Unpopular products  \n",
       "1683295  Unpopular products  \n",
       "1683298  Unpopular products  \n",
       "1683367  Unpopular products  \n",
       "1687066    Popular products  \n",
       "1687071  Unpopular products  \n",
       "1687186    Popular products  \n",
       "1687206  Unpopular products  \n",
       "1687253    Popular products  \n",
       "1687258  Unpopular products  \n",
       "1687260  Unpopular products  \n",
       "1687302    Popular products  \n",
       "1687317  Unpopular products  \n",
       "1688108  Unpopular products  \n",
       "1694809    Popular products  \n",
       "1694990  Unpopular products  \n",
       "1697078  Unpopular products  \n",
       "1697144  Unpopular products  \n",
       "1697302    Popular products  \n",
       "1697332    Popular products  \n",
       "1702432  Unpopular products  \n",
       "1702451  Unpopular products  \n",
       "1702455  Unpopular products  \n",
       "1702460    Popular products  \n",
       "1702467    Popular products  \n",
       "1702468    Popular products  "
      ]
     },
     "execution_count": 40,
     "metadata": {},
     "output_type": "execute_result"
    }
   ],
   "source": [
    "df_events.loc[df_events['transactionid'] == 765.0]"
   ]
  },
  {
   "cell_type": "markdown",
   "metadata": {},
   "source": [
    "* Produits les plus populaires (vue, panier, transaction confondues) sur df_events"
   ]
  },
  {
   "cell_type": "code",
   "execution_count": 41,
   "metadata": {},
   "outputs": [
    {
     "data": {
      "text/plain": [
       "187946    3412\n",
       "461686    2975\n",
       "5411      2334\n",
       "370653    1854\n",
       "219512    1800\n",
       "257040    1647\n",
       "298009    1642\n",
       "96924     1633\n",
       "309778    1628\n",
       "384302    1608\n",
       "Name: itemid, dtype: int64"
      ]
     },
     "execution_count": 41,
     "metadata": {},
     "output_type": "execute_result"
    }
   ],
   "source": [
    "top_produits = df_events['itemid'].value_counts()\n",
    "top_produits.sort_values(ascending=False)\n",
    "top_produits.head(10)"
   ]
  },
  {
   "cell_type": "markdown",
   "metadata": {},
   "source": [
    "* Produits les moins populaires (vue, panier, transaction confondues) sur df_events"
   ]
  },
  {
   "cell_type": "code",
   "execution_count": 42,
   "metadata": {},
   "outputs": [
    {
     "data": {
      "text/plain": [
       "317820    1\n",
       "218533    1\n",
       "211328    1\n",
       "207234    1\n",
       "319096    1\n",
       "214439    1\n",
       "37800     1\n",
       "227720    1\n",
       "223626    1\n",
       "2047      1\n",
       "Name: itemid, dtype: int64"
      ]
     },
     "execution_count": 42,
     "metadata": {},
     "output_type": "execute_result"
    }
   ],
   "source": [
    "top_produits.tail(10)"
   ]
  },
  {
   "cell_type": "markdown",
   "metadata": {},
   "source": [
    "* On souhaite réaliser l'étude statistique d'une variable cible (events_transaction) avec d'autres variables quantitatives afin d'analyser la corrélation inter-variables :"
   ]
  },
  {
   "cell_type": "code",
   "execution_count": 43,
   "metadata": {
    "scrolled": true
   },
   "outputs": [
    {
     "data": {
      "text/html": [
       "<div>\n",
       "<style scoped>\n",
       "    .dataframe tbody tr th:only-of-type {\n",
       "        vertical-align: middle;\n",
       "    }\n",
       "\n",
       "    .dataframe tbody tr th {\n",
       "        vertical-align: top;\n",
       "    }\n",
       "\n",
       "    .dataframe thead th {\n",
       "        text-align: right;\n",
       "    }\n",
       "</style>\n",
       "<table border=\"1\" class=\"dataframe\">\n",
       "  <thead>\n",
       "    <tr style=\"text-align: right;\">\n",
       "      <th></th>\n",
       "      <th>result</th>\n",
       "    </tr>\n",
       "  </thead>\n",
       "  <tbody>\n",
       "    <tr>\n",
       "      <th>pearson_coeff</th>\n",
       "      <td>0.080954</td>\n",
       "    </tr>\n",
       "    <tr>\n",
       "      <th>p-value</th>\n",
       "      <td>0.000000</td>\n",
       "    </tr>\n",
       "  </tbody>\n",
       "</table>\n",
       "</div>"
      ],
      "text/plain": [
       "                 result\n",
       "pearson_coeff  0.080954\n",
       "p-value        0.000000"
      ]
     },
     "execution_count": 43,
     "metadata": {},
     "output_type": "execute_result"
    }
   ],
   "source": [
    "from scipy.stats import pearsonr\n",
    "pd.DataFrame(pearsonr(df_events['events_transaction'],df_events['User frequency']), index = ['pearson_coeff','p-value'], columns = ['result'])"
   ]
  },
  {
   "cell_type": "markdown",
   "metadata": {},
   "source": [
    "_Avec une p-value de 0 et un coefficient > 5%, on observe une forte corrélation entre les variables \"events_transaction\" et \"User frequency\", ce qui semble logique compte tenu des varaibles considérées._\n",
    "\n",
    "* Si on réalise la même étude variable cible (events_transaction) et \"Product frequency\", on observe une corrélation beaucoup moins marquée car le coefficient est supérieur à 1 et la p-value s'approche de 5%. On peut tout de même considérer qu'il y a corrélation :"
   ]
  },
  {
   "cell_type": "code",
   "execution_count": 44,
   "metadata": {},
   "outputs": [
    {
     "data": {
      "text/html": [
       "<div>\n",
       "<style scoped>\n",
       "    .dataframe tbody tr th:only-of-type {\n",
       "        vertical-align: middle;\n",
       "    }\n",
       "\n",
       "    .dataframe tbody tr th {\n",
       "        vertical-align: top;\n",
       "    }\n",
       "\n",
       "    .dataframe thead th {\n",
       "        text-align: right;\n",
       "    }\n",
       "</style>\n",
       "<table border=\"1\" class=\"dataframe\">\n",
       "  <thead>\n",
       "    <tr style=\"text-align: right;\">\n",
       "      <th></th>\n",
       "      <th>result</th>\n",
       "    </tr>\n",
       "  </thead>\n",
       "  <tbody>\n",
       "    <tr>\n",
       "      <th>pearson_coeff</th>\n",
       "      <td>1.623410e-02</td>\n",
       "    </tr>\n",
       "    <tr>\n",
       "      <th>p-value</th>\n",
       "      <td>5.617452e-160</td>\n",
       "    </tr>\n",
       "  </tbody>\n",
       "</table>\n",
       "</div>"
      ],
      "text/plain": [
       "                      result\n",
       "pearson_coeff   1.623410e-02\n",
       "p-value        5.617452e-160"
      ]
     },
     "execution_count": 44,
     "metadata": {},
     "output_type": "execute_result"
    }
   ],
   "source": [
    "pd.DataFrame(pearsonr(df_events['events_transaction'],df_events['Product frequency']), index = ['pearson_coeff','p-value'], columns = ['result'])"
   ]
  },
  {
   "cell_type": "markdown",
   "metadata": {},
   "source": [
    "Si l'on cherche à croiser la variable cible (events_transaction) et \"events_view\", on observe avec surprise un coefficient négatif. Cela nous indique que les variables, bien que corrélées par p-value évoluent en sens opposé :"
   ]
  },
  {
   "cell_type": "code",
   "execution_count": 45,
   "metadata": {},
   "outputs": [
    {
     "data": {
      "text/html": [
       "<div>\n",
       "<style scoped>\n",
       "    .dataframe tbody tr th:only-of-type {\n",
       "        vertical-align: middle;\n",
       "    }\n",
       "\n",
       "    .dataframe tbody tr th {\n",
       "        vertical-align: top;\n",
       "    }\n",
       "\n",
       "    .dataframe thead th {\n",
       "        text-align: right;\n",
       "    }\n",
       "</style>\n",
       "<table border=\"1\" class=\"dataframe\">\n",
       "  <thead>\n",
       "    <tr style=\"text-align: right;\">\n",
       "      <th></th>\n",
       "      <th>result</th>\n",
       "    </tr>\n",
       "  </thead>\n",
       "  <tbody>\n",
       "    <tr>\n",
       "      <th>pearson_coeff</th>\n",
       "      <td>-0.489326</td>\n",
       "    </tr>\n",
       "    <tr>\n",
       "      <th>p-value</th>\n",
       "      <td>0.000000</td>\n",
       "    </tr>\n",
       "  </tbody>\n",
       "</table>\n",
       "</div>"
      ],
      "text/plain": [
       "                 result\n",
       "pearson_coeff -0.489326\n",
       "p-value        0.000000"
      ]
     },
     "execution_count": 45,
     "metadata": {},
     "output_type": "execute_result"
    }
   ],
   "source": [
    "pd.DataFrame(pearsonr(df_events['events_transaction'],df_events['events_view']), index = ['pearson_coeff','p-value'], columns = ['result'])"
   ]
  },
  {
   "cell_type": "markdown",
   "metadata": {},
   "source": [
    "En croisant la variable cible (events_transaction) et \"events_addtocart\", on observe que les variables sont peu corrélées et évoluent en sens opposé, indiquant un taux d'abandon de panier très élevé et une rupture très marquée dans le parcours d'achat :"
   ]
  },
  {
   "cell_type": "code",
   "execution_count": 46,
   "metadata": {},
   "outputs": [
    {
     "data": {
      "text/html": [
       "<div>\n",
       "<style scoped>\n",
       "    .dataframe tbody tr th:only-of-type {\n",
       "        vertical-align: middle;\n",
       "    }\n",
       "\n",
       "    .dataframe tbody tr th {\n",
       "        vertical-align: top;\n",
       "    }\n",
       "\n",
       "    .dataframe thead th {\n",
       "        text-align: right;\n",
       "    }\n",
       "</style>\n",
       "<table border=\"1\" class=\"dataframe\">\n",
       "  <thead>\n",
       "    <tr style=\"text-align: right;\">\n",
       "      <th></th>\n",
       "      <th>result</th>\n",
       "    </tr>\n",
       "  </thead>\n",
       "  <tbody>\n",
       "    <tr>\n",
       "      <th>pearson_coeff</th>\n",
       "      <td>-1.452283e-02</td>\n",
       "    </tr>\n",
       "    <tr>\n",
       "      <th>p-value</th>\n",
       "      <td>1.994777e-128</td>\n",
       "    </tr>\n",
       "  </tbody>\n",
       "</table>\n",
       "</div>"
      ],
      "text/plain": [
       "                      result\n",
       "pearson_coeff  -1.452283e-02\n",
       "p-value        1.994777e-128"
      ]
     },
     "execution_count": 46,
     "metadata": {},
     "output_type": "execute_result"
    }
   ],
   "source": [
    "pd.DataFrame(pearsonr(df_events['events_transaction'],df_events['events_addtocart']), index = ['pearson_coeff','p-value'], columns = ['result'])"
   ]
  },
  {
   "cell_type": "markdown",
   "metadata": {},
   "source": [
    "* L'utilisation de la fonction crosstab est utile pour identifier une corrélation entre deux variables quantitatives. Elle permet de croiser les différentes catégories de deux variables. On créer ici la table de contingence entre la variable cible events_transaction et User category :"
   ]
  },
  {
   "cell_type": "code",
   "execution_count": 47,
   "metadata": {},
   "outputs": [
    {
     "data": {
      "text/html": [
       "<div>\n",
       "<style scoped>\n",
       "    .dataframe tbody tr th:only-of-type {\n",
       "        vertical-align: middle;\n",
       "    }\n",
       "\n",
       "    .dataframe tbody tr th {\n",
       "        vertical-align: top;\n",
       "    }\n",
       "\n",
       "    .dataframe thead th {\n",
       "        text-align: right;\n",
       "    }\n",
       "</style>\n",
       "<table border=\"1\" class=\"dataframe\">\n",
       "  <thead>\n",
       "    <tr style=\"text-align: right;\">\n",
       "      <th>User category</th>\n",
       "      <th>Infrequent user</th>\n",
       "      <th>Recurrent user</th>\n",
       "      <th>Big user</th>\n",
       "      <th>Bots</th>\n",
       "    </tr>\n",
       "    <tr>\n",
       "      <th>events_transaction</th>\n",
       "      <th></th>\n",
       "      <th></th>\n",
       "      <th></th>\n",
       "      <th></th>\n",
       "    </tr>\n",
       "  </thead>\n",
       "  <tbody>\n",
       "    <tr>\n",
       "      <th>0</th>\n",
       "      <td>2200007</td>\n",
       "      <td>326965</td>\n",
       "      <td>192297</td>\n",
       "      <td>13915</td>\n",
       "    </tr>\n",
       "    <tr>\n",
       "      <th>1</th>\n",
       "      <td>9268</td>\n",
       "      <td>5740</td>\n",
       "      <td>6255</td>\n",
       "      <td>1194</td>\n",
       "    </tr>\n",
       "  </tbody>\n",
       "</table>\n",
       "</div>"
      ],
      "text/plain": [
       "User category       Infrequent user  Recurrent user  Big user   Bots\n",
       "events_transaction                                                  \n",
       "0                           2200007          326965    192297  13915\n",
       "1                              9268            5740      6255   1194"
      ]
     },
     "execution_count": 47,
     "metadata": {},
     "output_type": "execute_result"
    }
   ],
   "source": [
    "table = pd.crosstab(df_events['events_transaction'],df_events['User category'])\n",
    "table"
   ]
  },
  {
   "cell_type": "markdown",
   "metadata": {},
   "source": [
    "* Puis on réalise un test de proportions entre l'effectif de la cellule et l'effectif total de la colonne, ici le χ2 sur la table de contingence déterminée précédemment (variable cible events_transaction et day of week)"
   ]
  },
  {
   "cell_type": "code",
   "execution_count": 48,
   "metadata": {},
   "outputs": [
    {
     "name": "stdout",
     "output_type": "stream",
     "text": [
      "30471.797136536483 0.0 3\n"
     ]
    }
   ],
   "source": [
    "from scipy.stats import chi2_contingency\n",
    "\n",
    "resultats_test = chi2_contingency(table)\n",
    "statistique = resultats_test[0]\n",
    "p_valeur = resultats_test[1]\n",
    "degre_liberte = resultats_test[2]\n",
    "\n",
    "print(statistique,p_valeur,degre_liberte)"
   ]
  },
  {
   "cell_type": "markdown",
   "metadata": {},
   "source": [
    "* Un dernier test V Cramer nous permet de voir la corrélation entre les deux variables :"
   ]
  },
  {
   "cell_type": "code",
   "execution_count": 49,
   "metadata": {},
   "outputs": [
    {
     "data": {
      "text/plain": [
       "0.10515172812105962"
      ]
     },
     "execution_count": 49,
     "metadata": {},
     "output_type": "execute_result"
    }
   ],
   "source": [
    "def V_Cramer (table,N):\n",
    "    stat_chi2 = chi2_contingency(table)[0]\n",
    "    k = table.shape[0]\n",
    "    r = table.shape[1]\n",
    "    phi = max(0,(stat_chi2/N)-((k-1)*(r-1)/(N-1)))\n",
    "    k_corr = k - (np.square(k-1)/(N-1))\n",
    "    r_corr = r - (np.square(r-1)/(N-1))\n",
    "    return np.sqrt(phi/min(k_corr - 1,r_corr - 1))\n",
    "\n",
    "V_Cramer(table,df_events.shape[0])"
   ]
  },
  {
   "cell_type": "markdown",
   "metadata": {},
   "source": [
    "* On observe que le V de Cramer donne un résultat relativement proche de 0, donc il existe une corrélation entre les variables events_transaction et day_of_week. Si on regarde la table de contingence on remarque que les jours de semaine il y a plus de ventes que le Week-end. Le jour avec le nombre de transactions le plus élevé est le mercredi. \n",
    "\n",
    "* On réalise les mêmes manipulations statistiques avec d'autres varaibles et la variable cible. Table de contingence entre les variable events_view et Product category :"
   ]
  },
  {
   "cell_type": "code",
   "execution_count": 50,
   "metadata": {},
   "outputs": [
    {
     "data": {
      "text/html": [
       "<div>\n",
       "<style scoped>\n",
       "    .dataframe tbody tr th:only-of-type {\n",
       "        vertical-align: middle;\n",
       "    }\n",
       "\n",
       "    .dataframe tbody tr th {\n",
       "        vertical-align: top;\n",
       "    }\n",
       "\n",
       "    .dataframe thead th {\n",
       "        text-align: right;\n",
       "    }\n",
       "</style>\n",
       "<table border=\"1\" class=\"dataframe\">\n",
       "  <thead>\n",
       "    <tr style=\"text-align: right;\">\n",
       "      <th>Product category</th>\n",
       "      <th>Unpopular products</th>\n",
       "      <th>Popular products</th>\n",
       "      <th>Very popular products</th>\n",
       "      <th>Most popular products</th>\n",
       "    </tr>\n",
       "    <tr>\n",
       "      <th>events_transaction</th>\n",
       "      <th></th>\n",
       "      <th></th>\n",
       "      <th></th>\n",
       "      <th></th>\n",
       "    </tr>\n",
       "  </thead>\n",
       "  <tbody>\n",
       "    <tr>\n",
       "      <th>0</th>\n",
       "      <td>1894312</td>\n",
       "      <td>788112</td>\n",
       "      <td>28955</td>\n",
       "      <td>13217</td>\n",
       "    </tr>\n",
       "    <tr>\n",
       "      <th>1</th>\n",
       "      <td>13307</td>\n",
       "      <td>8528</td>\n",
       "      <td>387</td>\n",
       "      <td>102</td>\n",
       "    </tr>\n",
       "  </tbody>\n",
       "</table>\n",
       "</div>"
      ],
      "text/plain": [
       "Product category    Unpopular products  Popular products  \\\n",
       "events_transaction                                         \n",
       "0                              1894312            788112   \n",
       "1                                13307              8528   \n",
       "\n",
       "Product category    Very popular products  Most popular products  \n",
       "events_transaction                                                \n",
       "0                                   28955                  13217  \n",
       "1                                     387                    102  "
      ]
     },
     "execution_count": 50,
     "metadata": {},
     "output_type": "execute_result"
    }
   ],
   "source": [
    "table = pd.crosstab(df_events['events_transaction'],df_events['Product category'])\n",
    "table"
   ]
  },
  {
   "cell_type": "markdown",
   "metadata": {},
   "source": [
    "* Puis on teste le χ2 sur la table de contingence déterminée précédemment (variables events_transaction et Product category)\n",
    "\n"
   ]
  },
  {
   "cell_type": "code",
   "execution_count": 51,
   "metadata": {},
   "outputs": [
    {
     "name": "stdout",
     "output_type": "stream",
     "text": [
      "1064.1184072898184 2.215472700205196e-230 3\n"
     ]
    }
   ],
   "source": [
    "resultats_test = chi2_contingency(table)\n",
    "statistique = resultats_test[0]\n",
    "p_valeur = resultats_test[1]\n",
    "degre_liberte = resultats_test[2]\n",
    "\n",
    "print(statistique,p_valeur,degre_liberte)"
   ]
  },
  {
   "cell_type": "markdown",
   "metadata": {},
   "source": [
    "* Enfin on réalise un test de V_Cramer par rapport au tableau de contingence (variables events_transaction et Product category) :"
   ]
  },
  {
   "cell_type": "code",
   "execution_count": 52,
   "metadata": {},
   "outputs": [
    {
     "data": {
      "text/plain": [
       "0.019623238570507805"
      ]
     },
     "execution_count": 52,
     "metadata": {},
     "output_type": "execute_result"
    }
   ],
   "source": [
    "def V_Cramer (table,N):\n",
    "    stat_chi2 = chi2_contingency(table)[0]\n",
    "    k = table.shape[0]\n",
    "    r = table.shape[1]\n",
    "    phi = max(0,(stat_chi2/N)-((k-1)*(r-1)/(N-1)))\n",
    "    k_corr = k - (np.square(k-1)/(N-1))\n",
    "    r_corr = r - (np.square(r-1)/(N-1))\n",
    "    return np.sqrt(phi/min(k_corr - 1,r_corr - 1))\n",
    "\n",
    "V_Cramer(table,df_events.shape[0])"
   ]
  },
  {
   "cell_type": "markdown",
   "metadata": {},
   "source": [
    "* On observe que le V de Cramer donne également un résultat relativement proche de 0, donc il existe une corrélation entre les variables events_transaction et Product category. En observant la table de contingence on remarque que les produits qui gènèrent le plus d'événements ne sont pas ceux qui se vendent le plus. Ce sont les produits de la catégorie 'Very popular products' qui ont le pourcentage d'événements de vente le plus important.\n",
    "\n",
    "* On créer un nouveau dataframe qui va être utilisé pour le clustering et qui marque pour chaque visitorid le nombre de fois où il a un événement de type nombre de vies, nombre d'ajouts au panier et de transactions :"
   ]
  }
 ],
 "metadata": {
  "kernelspec": {
   "display_name": "Python 3",
   "language": "python",
   "name": "python3"
  },
  "language_info": {
   "codemirror_mode": {
    "name": "ipython",
    "version": 3
   },
   "file_extension": ".py",
   "mimetype": "text/x-python",
   "name": "python",
   "nbconvert_exporter": "python",
   "pygments_lexer": "ipython3",
   "version": "3.8.5"
  }
 },
 "nbformat": 4,
 "nbformat_minor": 4
}
